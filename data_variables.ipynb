{
 "cells": [
  {
   "cell_type": "code",
   "execution_count": 1,
   "id": "9d3eee3d-7417-491f-af7b-da825d9b538f",
   "metadata": {},
   "outputs": [],
   "source": [
    "import pandas as pd\n",
    "import numpy as np\n",
    "import matplotlib.pyplot as plt\n",
    "%matplotlib inline"
   ]
  },
  {
   "cell_type": "markdown",
   "id": "1a0f19b5-f85d-4097-ab85-76f13b8a5014",
   "metadata": {
    "tags": []
   },
   "source": [
    "## Terminology\n",
    "- Population: A complete set of items or events with at least one common characteristic\n",
    "- Parameter: A descriptive measure of a population\n",
    "- Sample: A subset drawn from a population\n",
    "- Statistic: A descriptive measure calculated from a sample that estimates a parameter\n",
    "- Variable: A characteristic of a population or sample\n",
    "- Data: A collection of observed values of a variable\n",
    "\n",
    "\n",
    "## Types of variables\n",
    "1. Categorical variables \n",
    "2. Numerical variables\n",
    "\n",
    "\n",
    "## 1. Categorical variables\n",
    "Classifies qualitative data in different categories.\n",
    "- Gender: Male of Female\n",
    "- Home language: Xhosa, Sesotho, Venda, Zulu\n",
    "### Measurement scales\n",
    "#### Norminal \n",
    "- Scales categories that are of equal importance.\n",
    "- Categories are unordered:\n",
    "    - Soda drink: (Coke, Pepsi, Twizza)\n",
    "    - Gender: (Male, Female)\n",
    "#### Ordinal \n",
    "- Scales categories that have a natural order.\n",
    "- Categories are ordered:\n",
    "    - Size: (small=1, medium=3, large=3)\n",
    "    \n",
    "    \n",
    "### Summarizing single categorical variables\n",
    "#### Categorical frequency table\n",
    "- Shows the frequency of a catergorical variable in a data sample.\n",
    "- Measures the relative importance of different catergorical variables.\n",
    "\n",
    "#### Example\n",
    "Taken from Applied Business Statistics, Wegner T<br>\n",
    "A market research company conducted a survey amongst grocery shoppers to identify<br>\n",
    "their demographic profile and shopping patterns. A random sample of 30 grocery<br>\n",
    "shoppers was asked to complete a questionnaire that identified:\n",
    "- at which grocery store they most preferred to shop\n",
    "- the number of visits to the grocery store in the last month\n",
    "- the amount spent last month on grocery purchases\n",
    "- their age, gender and family size."
   ]
  },
  {
   "cell_type": "code",
   "execution_count": 2,
   "id": "6063b1fd-e58e-4519-8a46-bd770e932d96",
   "metadata": {},
   "outputs": [
    {
     "data": {
      "text/html": [
       "<div>\n",
       "<style scoped>\n",
       "    .dataframe tbody tr th:only-of-type {\n",
       "        vertical-align: middle;\n",
       "    }\n",
       "\n",
       "    .dataframe tbody tr th {\n",
       "        vertical-align: top;\n",
       "    }\n",
       "\n",
       "    .dataframe thead th {\n",
       "        text-align: right;\n",
       "    }\n",
       "</style>\n",
       "<table border=\"1\" class=\"dataframe\">\n",
       "  <thead>\n",
       "    <tr style=\"text-align: right;\">\n",
       "      <th></th>\n",
       "      <th>Customer</th>\n",
       "      <th>Store</th>\n",
       "      <th>Visits</th>\n",
       "      <th>Spend</th>\n",
       "      <th>Family Size</th>\n",
       "      <th>Age</th>\n",
       "      <th>Gender</th>\n",
       "    </tr>\n",
       "  </thead>\n",
       "  <tbody>\n",
       "    <tr>\n",
       "      <th>0</th>\n",
       "      <td>1</td>\n",
       "      <td>Pick N Pay</td>\n",
       "      <td>3</td>\n",
       "      <td>946</td>\n",
       "      <td>2</td>\n",
       "      <td>26</td>\n",
       "      <td>Female</td>\n",
       "    </tr>\n",
       "    <tr>\n",
       "      <th>1</th>\n",
       "      <td>2</td>\n",
       "      <td>Pick N Pay</td>\n",
       "      <td>5</td>\n",
       "      <td>1842</td>\n",
       "      <td>5</td>\n",
       "      <td>45</td>\n",
       "      <td>Male</td>\n",
       "    </tr>\n",
       "    <tr>\n",
       "      <th>2</th>\n",
       "      <td>3</td>\n",
       "      <td>Checkers</td>\n",
       "      <td>3</td>\n",
       "      <td>885</td>\n",
       "      <td>2</td>\n",
       "      <td>32</td>\n",
       "      <td>Female</td>\n",
       "    </tr>\n",
       "    <tr>\n",
       "      <th>3</th>\n",
       "      <td>4</td>\n",
       "      <td>Pick N Pay</td>\n",
       "      <td>4</td>\n",
       "      <td>1332</td>\n",
       "      <td>3</td>\n",
       "      <td>33</td>\n",
       "      <td>Female</td>\n",
       "    </tr>\n",
       "    <tr>\n",
       "      <th>4</th>\n",
       "      <td>5</td>\n",
       "      <td>Pick N Pay</td>\n",
       "      <td>3</td>\n",
       "      <td>744</td>\n",
       "      <td>2</td>\n",
       "      <td>65</td>\n",
       "      <td>Male</td>\n",
       "    </tr>\n",
       "  </tbody>\n",
       "</table>\n",
       "</div>"
      ],
      "text/plain": [
       "   Customer       Store  Visits  Spend  Family Size  Age  Gender\n",
       "0         1  Pick N Pay       3    946            2   26  Female\n",
       "1         2  Pick N Pay       5   1842            5   45    Male\n",
       "2         3    Checkers       3    885            2   32  Female\n",
       "3         4  Pick N Pay       4   1332            3   33  Female\n",
       "4         5  Pick N Pay       3    744            2   65    Male"
      ]
     },
     "execution_count": 2,
     "metadata": {},
     "output_type": "execute_result"
    }
   ],
   "source": [
    "grocery_df = pd.read_excel('data/grocery.xlsx')\n",
    "grocery_df.Store.replace([1, 2, 3], ['Checkers', 'Pick N Pay', 'Spar'], inplace=True)\n",
    "grocery_df.Gender.replace([1, 2], ['Female', 'Male'], inplace=True)\n",
    "grocery_df.head()"
   ]
  },
  {
   "cell_type": "markdown",
   "id": "0c84b467-2026-4346-a0de-ab281f8bb305",
   "metadata": {},
   "source": [
    "##### Questions?\n",
    "1. Which grocery store is most preferred by shoppers?\n",
    "2. What percentage of shoppers prefer this store?\n",
    "3. What percentage of shoppers prefer to shop at Spar grocery stores?"
   ]
  },
  {
   "cell_type": "code",
   "execution_count": 3,
   "id": "1615a293-78af-448c-935b-84ec201e3407",
   "metadata": {},
   "outputs": [
    {
     "data": {
      "text/html": [
       "<div>\n",
       "<style scoped>\n",
       "    .dataframe tbody tr th:only-of-type {\n",
       "        vertical-align: middle;\n",
       "    }\n",
       "\n",
       "    .dataframe tbody tr th {\n",
       "        vertical-align: top;\n",
       "    }\n",
       "\n",
       "    .dataframe thead th {\n",
       "        text-align: right;\n",
       "    }\n",
       "</style>\n",
       "<table border=\"1\" class=\"dataframe\">\n",
       "  <thead>\n",
       "    <tr style=\"text-align: right;\">\n",
       "      <th></th>\n",
       "      <th>Preferred Store</th>\n",
       "      <th>Frequency</th>\n",
       "      <th>Percentage</th>\n",
       "    </tr>\n",
       "  </thead>\n",
       "  <tbody>\n",
       "    <tr>\n",
       "      <th>0</th>\n",
       "      <td>Pick N Pay</td>\n",
       "      <td>17.0</td>\n",
       "      <td>56.7</td>\n",
       "    </tr>\n",
       "    <tr>\n",
       "      <th>1</th>\n",
       "      <td>Checkers</td>\n",
       "      <td>10.0</td>\n",
       "      <td>33.3</td>\n",
       "    </tr>\n",
       "    <tr>\n",
       "      <th>2</th>\n",
       "      <td>Spar</td>\n",
       "      <td>3.0</td>\n",
       "      <td>10.0</td>\n",
       "    </tr>\n",
       "    <tr>\n",
       "      <th>Total</th>\n",
       "      <td>NaN</td>\n",
       "      <td>30.0</td>\n",
       "      <td>100.0</td>\n",
       "    </tr>\n",
       "  </tbody>\n",
       "</table>\n",
       "</div>"
      ],
      "text/plain": [
       "      Preferred Store  Frequency  Percentage\n",
       "0          Pick N Pay       17.0        56.7\n",
       "1            Checkers       10.0        33.3\n",
       "2                Spar        3.0        10.0\n",
       "Total             NaN       30.0       100.0"
      ]
     },
     "execution_count": 3,
     "metadata": {},
     "output_type": "execute_result"
    }
   ],
   "source": [
    "freq_store = grocery_df['Store'].value_counts().values\n",
    "rel_freq_store = grocery_df['Store'].value_counts(normalize=True).round(decimals=3).values\n",
    "perc_freq_store = rel_freq_store*100 \n",
    "stores = grocery_df['Store'].value_counts().index\n",
    "data = {\n",
    "    'Preferred Store': stores,\n",
    "    'Frequency': freq_store,\n",
    "    'Percentage': perc_freq_store,\n",
    "}\n",
    "\n",
    "pref_df = pd.DataFrame(data)\n",
    "pref_df.loc['Total']= pref_df.sum(numeric_only=True)\n",
    "pref_df"
   ]
  },
  {
   "cell_type": "markdown",
   "id": "8ce5ae55-d3f0-408c-a127-bdc9aeafa7f4",
   "metadata": {},
   "source": [
    "From the frequency table,\n",
    "1. Pick N Pay has the highest frequency and therfore is the preferred store.\n",
    "2. 56.7% of customers prefer Pick N Pay\n",
    "3. 10% of shoppers prefer Spar\n",
    "\n",
    "A categorical frequency table can be displayed graphically either as a:\n",
    "- bar chart  \n",
    "- pie chart"
   ]
  },
  {
   "cell_type": "code",
   "execution_count": 4,
   "id": "d32f6e0d-8032-4da0-9326-c8dbd26a5f1c",
   "metadata": {},
   "outputs": [
    {
     "data": {
      "text/plain": [
       "Text(0.5, 1.0, '% Frequency pie chart')"
      ]
     },
     "execution_count": 4,
     "metadata": {},
     "output_type": "execute_result"
    },
    {
     "data": {
      "image/png": "[encoded data removed]",
      "text/plain": [
       "<Figure size 800x300 with 2 Axes>"
      ]
     },
     "metadata": {},
     "output_type": "display_data"
    }
   ],
   "source": [
    "plt.rcParams[\"figure.figsize\"] = (8,3)\n",
    "\n",
    "color = ['magenta','orange','green']\n",
    "#bar chart\n",
    "plt.subplot(1, 2, 1)\n",
    "plt.yticks([0, 10, 20,30,40,50,60])\n",
    "plt.ylabel(\"% of shoppers\")\n",
    "plt.bar(stores,perc_freq_store,color=color)\n",
    "plt.title(\"% Frequency bar chart\")\n",
    "\n",
    "#pie chart\n",
    "plt.subplot(1, 2, 2)\n",
    "plt.pie(freq_store,labels=stores,colors=color, autopct='%0.1f%%')\n",
    "plt.title(\"% Frequency pie chart\")"
   ]
  },
  {
   "cell_type": "markdown",
   "id": "6aab6a69-cfd3-446e-b0f3-e7da220c445b",
   "metadata": {},
   "source": [
    "### Summarizing Two categorical variables\n",
    "#### Cross-tabulation table (Contingency table)\n",
    "- Summarizes the joint responses of two categorical variables.\n",
    "- Examines the association between joint categorical variables.\n",
    "- Table has m by n cells where:\n",
    "    - m: m rows of first variable\n",
    "    - n: n columns of second variable"
   ]
  },
  {
   "cell_type": "code",
   "execution_count": 5,
   "id": "48ebbc1f-69a6-451d-988f-8363d41ebdec",
   "metadata": {},
   "outputs": [
    {
     "data": {
      "text/html": [
       "<div>\n",
       "<style scoped>\n",
       "    .dataframe tbody tr th:only-of-type {\n",
       "        vertical-align: middle;\n",
       "    }\n",
       "\n",
       "    .dataframe tbody tr th {\n",
       "        vertical-align: top;\n",
       "    }\n",
       "\n",
       "    .dataframe thead th {\n",
       "        text-align: right;\n",
       "    }\n",
       "</style>\n",
       "<table border=\"1\" class=\"dataframe\">\n",
       "  <thead>\n",
       "    <tr style=\"text-align: right;\">\n",
       "      <th></th>\n",
       "      <th>Female</th>\n",
       "      <th>Male</th>\n",
       "      <th>Row_Total</th>\n",
       "    </tr>\n",
       "  </thead>\n",
       "  <tbody>\n",
       "    <tr>\n",
       "      <th>Checkers</th>\n",
       "      <td>7</td>\n",
       "      <td>3</td>\n",
       "      <td>10</td>\n",
       "    </tr>\n",
       "    <tr>\n",
       "      <th>Pick N Pay</th>\n",
       "      <td>10</td>\n",
       "      <td>7</td>\n",
       "      <td>17</td>\n",
       "    </tr>\n",
       "    <tr>\n",
       "      <th>Spar</th>\n",
       "      <td>2</td>\n",
       "      <td>1</td>\n",
       "      <td>3</td>\n",
       "    </tr>\n",
       "    <tr>\n",
       "      <th>Column_Total</th>\n",
       "      <td>19</td>\n",
       "      <td>11</td>\n",
       "      <td>30</td>\n",
       "    </tr>\n",
       "  </tbody>\n",
       "</table>\n",
       "</div>"
      ],
      "text/plain": [
       "              Female  Male  Row_Total\n",
       "Checkers           7     3         10\n",
       "Pick N Pay        10     7         17\n",
       "Spar               2     1          3\n",
       "Column_Total      19    11         30"
      ]
     },
     "execution_count": 5,
     "metadata": {},
     "output_type": "execute_result"
    }
   ],
   "source": [
    "crosstab_df = pd.crosstab(grocery_df['Store'],grocery_df['Gender'])\n",
    "crosstab_df.index,crosstab_df.columns = ['Checkers', 'Pick N Pay','Spar'], ['Female', 'Male']\n",
    "\n",
    "crosstab_df.loc['Column_Total']= crosstab_df.sum(numeric_only=True, axis=0)\n",
    "crosstab_df.loc[:,'Row_Total'] = crosstab_df.sum(numeric_only=True, axis=1)\n",
    "crosstab_df"
   ]
  },
  {
   "cell_type": "markdown",
   "id": "8b8b3d40-662d-449c-9fa1-f498b32e08ad",
   "metadata": {},
   "source": [
    "Cross-tabulated Tables can be displayed as:\n",
    "- Stacked bar chart\n",
    "- Multiple bar chart"
   ]
  },
  {
   "cell_type": "code",
   "execution_count": 6,
   "id": "0a4e96e4-7a81-4ff8-a611-7e6d524a915d",
   "metadata": {},
   "outputs": [
    {
     "data": {
      "text/plain": [
       "Text(0.5, 1.0, 'Multiple bar chart')"
      ]
     },
     "execution_count": 6,
     "metadata": {},
     "output_type": "execute_result"
    },
    {
     "data": {
      "image/png": "[encoded data removed]",
      "text/plain": [
       "<Figure size 800x300 with 2 Axes>"
      ]
     },
     "metadata": {},
     "output_type": "display_data"
    }
   ],
   "source": [
    "male = crosstab_df['Male'].drop('Column_Total').values\n",
    "female = crosstab_df['Female'].drop('Column_Total').values\n",
    "stores = crosstab_df.drop('Column_Total').index\n",
    "plt.rcParams[\"figure.figsize\"] = (8,3)\n",
    "w = 0.6\n",
    "# Stacked bar chart\n",
    "plt.subplot(1, 2, 1)\n",
    "plt.yticks([0, 5, 10,15,20])\n",
    "plt.bar(stores,female,w,label=\"Female\")\n",
    "plt.bar(stores,male,w,bottom=female,label=\"Male\")\n",
    "plt.legend()\n",
    "plt.title(\"Stacked bar chart\")\n",
    "\n",
    "#multiple bar chart\n",
    "plt.subplot(1, 2, 2)\n",
    "w = 0.4\n",
    "x_axis = np.arange(len(stores))\n",
    "plt.bar(x_axis -0.2, female, w, label = 'Female')\n",
    "plt.bar(x_axis +0.2, male, w, label = 'Male')\n",
    "plt.yticks([0, 5, 10,15,20])\n",
    "plt.xticks(x_axis, stores)\n",
    "plt.legend()\n",
    "plt.title(\"Multiple bar chart\")"
   ]
  },
  {
   "cell_type": "markdown",
   "id": "9575e711-8346-43b6-9e38-905728e6c174",
   "metadata": {},
   "source": [
    "- The Stacked bar shows that there Pick N Pay is the most preferred shop\n",
    "- The multiple bar shows that more females shop more than males in all stores"
   ]
  },
  {
   "cell_type": "code",
   "execution_count": 7,
   "id": "02810bf6-aa55-405a-ab5b-bc5e67905573",
   "metadata": {},
   "outputs": [
    {
     "data": {
      "text/html": [
       "<div>\n",
       "<style scoped>\n",
       "    .dataframe tbody tr th:only-of-type {\n",
       "        vertical-align: middle;\n",
       "    }\n",
       "\n",
       "    .dataframe tbody tr th {\n",
       "        vertical-align: top;\n",
       "    }\n",
       "\n",
       "    .dataframe thead th {\n",
       "        text-align: right;\n",
       "    }\n",
       "</style>\n",
       "<table border=\"1\" class=\"dataframe\">\n",
       "  <thead>\n",
       "    <tr style=\"text-align: right;\">\n",
       "      <th></th>\n",
       "      <th>Female</th>\n",
       "      <th>Male</th>\n",
       "      <th>Row_Total</th>\n",
       "    </tr>\n",
       "  </thead>\n",
       "  <tbody>\n",
       "    <tr>\n",
       "      <th>Checkers</th>\n",
       "      <td>70.00</td>\n",
       "      <td>30.00</td>\n",
       "      <td>100.0</td>\n",
       "    </tr>\n",
       "    <tr>\n",
       "      <th>Pick N Pay</th>\n",
       "      <td>58.80</td>\n",
       "      <td>41.20</td>\n",
       "      <td>100.0</td>\n",
       "    </tr>\n",
       "    <tr>\n",
       "      <th>Spar</th>\n",
       "      <td>66.70</td>\n",
       "      <td>33.30</td>\n",
       "      <td>100.0</td>\n",
       "    </tr>\n",
       "    <tr>\n",
       "      <th>Column_Total</th>\n",
       "      <td>63.33</td>\n",
       "      <td>36.67</td>\n",
       "      <td>100.0</td>\n",
       "    </tr>\n",
       "  </tbody>\n",
       "</table>\n",
       "</div>"
      ],
      "text/plain": [
       "              Female   Male  Row_Total\n",
       "Checkers       70.00  30.00      100.0\n",
       "Pick N Pay     58.80  41.20      100.0\n",
       "Spar           66.70  33.30      100.0\n",
       "Column_Total   63.33  36.67      100.0"
      ]
     },
     "execution_count": 7,
     "metadata": {},
     "output_type": "execute_result"
    }
   ],
   "source": [
    "crosstab_df = pd.crosstab(grocery_df['Store'],grocery_df['Gender'])\n",
    "crosstab_df.index,crosstab_df.columns = ['Checkers', 'Pick N Pay','Spar'], ['Female', 'Male']\n",
    "total = crosstab_df.sum(numeric_only=True, axis=0).sum()\n",
    "females_ratio =  crosstab_df.Female.sum() /total*100\n",
    "males_ratio =  crosstab_df.Male.sum() /total*100\n",
    "crosstab_df =crosstab_df.apply(lambda x: round(x/x.sum(),3)*100, axis=1)\n",
    "\n",
    "crosstab_df.loc['Column_Total']= [females_ratio, males_ratio]\n",
    "crosstab_df.loc[:,'Row_Total'] = crosstab_df.sum(numeric_only=True, axis=1)\n",
    "\n",
    "crosstab_df.apply(lambda x: round(x,2))"
   ]
  },
  {
   "cell_type": "markdown",
   "id": "951a6cb7-cafc-447a-bbbf-83ddf17d03c7",
   "metadata": {},
   "source": [
    "- For customers who shop at,\n",
    "    - Checkers: 70% are females and 30% are males\n",
    "    - Pick N Pay: 58.8% are females and 41.2% are males\n",
    "    - Spar: 66.7% are females and 33.3% are males\n",
    "- There are a total of 63.33% Female shoppers and 36.67% male shoppers.\n"
   ]
  },
  {
   "cell_type": "code",
   "execution_count": 8,
   "id": "4ec1c399-b389-4512-97cc-ad87fa0c18e1",
   "metadata": {},
   "outputs": [
    {
     "data": {
      "text/html": [
       "<div>\n",
       "<style scoped>\n",
       "    .dataframe tbody tr th:only-of-type {\n",
       "        vertical-align: middle;\n",
       "    }\n",
       "\n",
       "    .dataframe tbody tr th {\n",
       "        vertical-align: top;\n",
       "    }\n",
       "\n",
       "    .dataframe thead th {\n",
       "        text-align: right;\n",
       "    }\n",
       "</style>\n",
       "<table border=\"1\" class=\"dataframe\">\n",
       "  <thead>\n",
       "    <tr style=\"text-align: right;\">\n",
       "      <th></th>\n",
       "      <th>Female</th>\n",
       "      <th>Male</th>\n",
       "      <th>Row_Total</th>\n",
       "    </tr>\n",
       "  </thead>\n",
       "  <tbody>\n",
       "    <tr>\n",
       "      <th>Checkers</th>\n",
       "      <td>36.84</td>\n",
       "      <td>27.27</td>\n",
       "      <td>33.33</td>\n",
       "    </tr>\n",
       "    <tr>\n",
       "      <th>Pick N Pay</th>\n",
       "      <td>52.63</td>\n",
       "      <td>63.64</td>\n",
       "      <td>56.67</td>\n",
       "    </tr>\n",
       "    <tr>\n",
       "      <th>Spar</th>\n",
       "      <td>10.53</td>\n",
       "      <td>9.09</td>\n",
       "      <td>10.00</td>\n",
       "    </tr>\n",
       "    <tr>\n",
       "      <th>Column_Total</th>\n",
       "      <td>100.00</td>\n",
       "      <td>100.00</td>\n",
       "      <td>100.00</td>\n",
       "    </tr>\n",
       "  </tbody>\n",
       "</table>\n",
       "</div>"
      ],
      "text/plain": [
       "              Female    Male  Row_Total\n",
       "Checkers       36.84   27.27      33.33\n",
       "Pick N Pay     52.63   63.64      56.67\n",
       "Spar           10.53    9.09      10.00\n",
       "Column_Total  100.00  100.00     100.00"
      ]
     },
     "execution_count": 8,
     "metadata": {},
     "output_type": "execute_result"
    }
   ],
   "source": [
    "crosstab_df = pd.crosstab(grocery_df['Gender'],grocery_df['Store'])\n",
    "crosstab_df.index,crosstab_df.columns = ['Female', 'Male'], ['Checkers', 'Pick N Pay','Spar']\n",
    "crosstab_df = crosstab_df.T\n",
    "crosstab_df[\"Row_Total\"] = crosstab_df.sum(axis=1)/total\n",
    "crosstab_df[['Female','Male']] = crosstab_df[['Female','Male']].apply(lambda x: x/x.sum())\n",
    "crosstab_df =crosstab_df.apply(lambda x: round(x,4)*100)\n",
    "crosstab_df.loc['Column_Total']= crosstab_df.sum(axis=0)\n",
    "crosstab_df"
   ]
  },
  {
   "cell_type": "markdown",
   "id": "b8f18e4d-e037-497a-aaf4-583b41f10908",
   "metadata": {},
   "source": [
    "- For Females: 36.84% prefer Checkers, 52.63% Pick N Pay, and 10.53% Spar\n",
    "- For Males: 27.27% prefer Checkers, 63.64% Pick N Pay, and 9.09% Spar\n",
    "- Overall, 33.33% prefer Checkers, 56.67% Pick N Pay, and 10% Spar"
   ]
  },
  {
   "cell_type": "markdown",
   "id": "10e43fcb-130b-4f32-95d8-455a663972f6",
   "metadata": {
    "tags": []
   },
   "source": [
    "## 2. Numerical variables\n",
    "Classifies quantitative data  in numerical values. <br>\n",
    "Numerical values can either be discrete or continuous\n",
    "#### Discrete variables: \n",
    "- Takes on distinct values from the set of integers.\n",
    "    - Goals in a match \n",
    "    - Number of eggs\n",
    "#### Continuous variables:\n",
    "- Takes on values from the set of real numbers.\n",
    "    - Temperature\n",
    "    - Time\n",
    "### Measurement scales\n",
    "#### Interval\n",
    "- Measures direction and difference between the values.\n",
    "- Scales categories in intervals of equal length.\n",
    "- Categories are ranked and can be discrete or continuous:\n",
    "    - Time (Continuous): 24 hours in a day\n",
    "#### Ratio\n",
    "- Measures:\n",
    "    1. Direction and difference between the values. \n",
    "    2. Values from an absolute origin, 0.\n",
    "        - Values cannot take on negative numbers because they are measured from 0. \n",
    "- Categories are ranked and can be discrete or continuous:\n",
    "    - Number of eggs (Discrete)\n",
    "    - Speed (Continuous)\n",
    "    \n",
    "### Summarizing single numerical variables\n",
    "#### Numerical Frequency Distribution\n",
    "- Groups numerical variables in intervals of equal width\n",
    "\n",
    "##### Questions\n",
    "1. How many shoppers are between 20 and 29 years of age?\n",
    "2. What is the most frequent age interval of shoppers surveyed?\n",
    "3. What percentage of shoppers belong to the most frequent age interval?\n",
    "4. What percentage of shoppers surveyed are 60 years or older?"
   ]
  },
  {
   "cell_type": "code",
   "execution_count": 9,
   "id": "76f370c8-2fd1-4e72-bd7c-9d2deeda5241",
   "metadata": {},
   "outputs": [
    {
     "data": {
      "text/html": [
       "<div>\n",
       "<style scoped>\n",
       "    .dataframe tbody tr th:only-of-type {\n",
       "        vertical-align: middle;\n",
       "    }\n",
       "\n",
       "    .dataframe tbody tr th {\n",
       "        vertical-align: top;\n",
       "    }\n",
       "\n",
       "    .dataframe thead th {\n",
       "        text-align: right;\n",
       "    }\n",
       "</style>\n",
       "<table border=\"1\" class=\"dataframe\">\n",
       "  <thead>\n",
       "    <tr style=\"text-align: right;\">\n",
       "      <th></th>\n",
       "      <th>Age</th>\n",
       "    </tr>\n",
       "  </thead>\n",
       "  <tbody>\n",
       "    <tr>\n",
       "      <th>0</th>\n",
       "      <td>26</td>\n",
       "    </tr>\n",
       "    <tr>\n",
       "      <th>1</th>\n",
       "      <td>45</td>\n",
       "    </tr>\n",
       "    <tr>\n",
       "      <th>2</th>\n",
       "      <td>32</td>\n",
       "    </tr>\n",
       "    <tr>\n",
       "      <th>3</th>\n",
       "      <td>33</td>\n",
       "    </tr>\n",
       "    <tr>\n",
       "      <th>4</th>\n",
       "      <td>65</td>\n",
       "    </tr>\n",
       "  </tbody>\n",
       "</table>\n",
       "</div>"
      ],
      "text/plain": [
       "   Age\n",
       "0   26\n",
       "1   45\n",
       "2   32\n",
       "3   33\n",
       "4   65"
      ]
     },
     "execution_count": 9,
     "metadata": {},
     "output_type": "execute_result"
    }
   ],
   "source": [
    "grocery_df[['Age']].head(5)"
   ]
  },
  {
   "cell_type": "code",
   "execution_count": 10,
   "id": "e28547c4-7f3e-406e-a4f1-15341e19179e",
   "metadata": {},
   "outputs": [
    {
     "data": {
      "text/html": [
       "<div>\n",
       "<style scoped>\n",
       "    .dataframe tbody tr th:only-of-type {\n",
       "        vertical-align: middle;\n",
       "    }\n",
       "\n",
       "    .dataframe tbody tr th {\n",
       "        vertical-align: top;\n",
       "    }\n",
       "\n",
       "    .dataframe thead th {\n",
       "        text-align: right;\n",
       "    }\n",
       "</style>\n",
       "<table border=\"1\" class=\"dataframe\">\n",
       "  <thead>\n",
       "    <tr style=\"text-align: right;\">\n",
       "      <th></th>\n",
       "      <th>Count</th>\n",
       "      <th>Percentage</th>\n",
       "    </tr>\n",
       "    <tr>\n",
       "      <th>Age (years)</th>\n",
       "      <th></th>\n",
       "      <th></th>\n",
       "    </tr>\n",
       "  </thead>\n",
       "  <tbody>\n",
       "    <tr>\n",
       "      <th>[20, 30)</th>\n",
       "      <td>6.0</td>\n",
       "      <td>20.0</td>\n",
       "    </tr>\n",
       "    <tr>\n",
       "      <th>[30, 40)</th>\n",
       "      <td>9.0</td>\n",
       "      <td>30.0</td>\n",
       "    </tr>\n",
       "    <tr>\n",
       "      <th>[40, 50)</th>\n",
       "      <td>8.0</td>\n",
       "      <td>27.0</td>\n",
       "    </tr>\n",
       "    <tr>\n",
       "      <th>[50, 60)</th>\n",
       "      <td>4.0</td>\n",
       "      <td>13.0</td>\n",
       "    </tr>\n",
       "    <tr>\n",
       "      <th>[60, 70)</th>\n",
       "      <td>3.0</td>\n",
       "      <td>10.0</td>\n",
       "    </tr>\n",
       "    <tr>\n",
       "      <th>Total</th>\n",
       "      <td>30.0</td>\n",
       "      <td>100.0</td>\n",
       "    </tr>\n",
       "  </tbody>\n",
       "</table>\n",
       "</div>"
      ],
      "text/plain": [
       "             Count  Percentage\n",
       "Age (years)                   \n",
       "[20, 30)       6.0        20.0\n",
       "[30, 40)       9.0        30.0\n",
       "[40, 50)       8.0        27.0\n",
       "[50, 60)       4.0        13.0\n",
       "[60, 70)       3.0        10.0\n",
       "Total         30.0       100.0"
      ]
     },
     "execution_count": 10,
     "metadata": {},
     "output_type": "execute_result"
    }
   ],
   "source": [
    "#create intervals of age\n",
    "bins = pd.interval_range(20, 70, freq=10,closed=\"left\")\n",
    "age_df = pd.cut(grocery_df.Age, bins).value_counts()\n",
    "#sort series\n",
    "sf = age_df.sort_index(ascending=True)\n",
    "#create new dataframe\n",
    "age_df = pd.DataFrame({'Age (years)':sf.index, 'Count':sf.values})\n",
    "age_df.set_index('Age (years)', inplace=True)\n",
    "#add percentage column\n",
    "age_df['Percentage']= np.round(age_df['Count']/age_df['Count'].sum()*100,0)\n",
    "#calculate total\n",
    "age_df.loc['Total']= age_df.sum(axis=0)\n",
    "age_df"
   ]
  },
  {
   "cell_type": "markdown",
   "id": "88fa77c9-4050-48f9-a576-ed5a75a5cc4a",
   "metadata": {},
   "source": [
    "##### Answers\n",
    "1. 6 shoppers are between 20 and 29\n",
    "2. The most frequent age interval is 30-39 with the highest count of 9\n",
    "3. 30%\n",
    "4. 10% of shoppers are 60 years and older\n",
    "\n",
    "#### Histogram\n",
    "A histogram is a graphic display of a numeric frequency distribution."
   ]
  },
  {
   "cell_type": "code",
   "execution_count": 11,
   "id": "d3db2259-1120-4faa-a739-cf183256ed2d",
   "metadata": {},
   "outputs": [
    {
     "data": {
      "image/png": "[encoded data removed]",
      "text/plain": [
       "<Figure size 800x300 with 1 Axes>"
      ]
     },
     "metadata": {},
     "output_type": "display_data"
    }
   ],
   "source": [
    "xvalues = ['20-<30','30-<40','40-<50','50-<60','60-<70']\n",
    "plt.margins(x=0)\n",
    "bar = plt.bar(xvalues,age_df['Count'][:-1].values,ec=\"k\",width=1)\n",
    "lables = plt.bar_label(bar,labels=age_df['Count'][:-1].values,padding=-20)"
   ]
  },
  {
   "cell_type": "markdown",
   "id": "28f85a19-f30e-4d6f-9863-c551ac1ca7e2",
   "metadata": {},
   "source": [
    "#### Cumulative Frequency Distribution\n",
    "- a summary table of cumulative frequency counts\n",
    "- used to answer questions of a ‘more than’ or ‘less than’ nature."
   ]
  },
  {
   "cell_type": "code",
   "execution_count": 12,
   "id": "00e64311-8ef5-4383-9870-568888f8bf9d",
   "metadata": {},
   "outputs": [
    {
     "data": {
      "text/html": [
       "<div>\n",
       "<style scoped>\n",
       "    .dataframe tbody tr th:only-of-type {\n",
       "        vertical-align: middle;\n",
       "    }\n",
       "\n",
       "    .dataframe tbody tr th {\n",
       "        vertical-align: top;\n",
       "    }\n",
       "\n",
       "    .dataframe thead th {\n",
       "        text-align: right;\n",
       "    }\n",
       "</style>\n",
       "<table border=\"1\" class=\"dataframe\">\n",
       "  <thead>\n",
       "    <tr style=\"text-align: right;\">\n",
       "      <th></th>\n",
       "      <th>Count</th>\n",
       "      <th>Cumulative Frequency</th>\n",
       "      <th>Percentage</th>\n",
       "    </tr>\n",
       "    <tr>\n",
       "      <th>Grocery Spend (R)</th>\n",
       "      <th></th>\n",
       "      <th></th>\n",
       "      <th></th>\n",
       "    </tr>\n",
       "  </thead>\n",
       "  <tbody>\n",
       "    <tr>\n",
       "      <th>[0, 400)</th>\n",
       "      <td>0</td>\n",
       "      <td>0</td>\n",
       "      <td>0.0</td>\n",
       "    </tr>\n",
       "    <tr>\n",
       "      <th>[400, 800)</th>\n",
       "      <td>7</td>\n",
       "      <td>7</td>\n",
       "      <td>23.3</td>\n",
       "    </tr>\n",
       "    <tr>\n",
       "      <th>[800, 1200)</th>\n",
       "      <td>14</td>\n",
       "      <td>21</td>\n",
       "      <td>70.0</td>\n",
       "    </tr>\n",
       "    <tr>\n",
       "      <th>[1200, 1600)</th>\n",
       "      <td>5</td>\n",
       "      <td>26</td>\n",
       "      <td>86.7</td>\n",
       "    </tr>\n",
       "    <tr>\n",
       "      <th>[1600, 2000)</th>\n",
       "      <td>3</td>\n",
       "      <td>29</td>\n",
       "      <td>96.7</td>\n",
       "    </tr>\n",
       "    <tr>\n",
       "      <th>[2000, 2400)</th>\n",
       "      <td>1</td>\n",
       "      <td>30</td>\n",
       "      <td>100.0</td>\n",
       "    </tr>\n",
       "  </tbody>\n",
       "</table>\n",
       "</div>"
      ],
      "text/plain": [
       "                   Count  Cumulative Frequency  Percentage\n",
       "Grocery Spend (R)                                         \n",
       "[0, 400)               0                     0         0.0\n",
       "[400, 800)             7                     7        23.3\n",
       "[800, 1200)           14                    21        70.0\n",
       "[1200, 1600)           5                    26        86.7\n",
       "[1600, 2000)           3                    29        96.7\n",
       "[2000, 2400)           1                    30       100.0"
      ]
     },
     "execution_count": 12,
     "metadata": {},
     "output_type": "execute_result"
    }
   ],
   "source": [
    "#create intervals of age\n",
    "bins = pd.interval_range(0, 2400, freq=400,closed=\"left\")\n",
    "spend_df = pd.cut(grocery_df['Spend'], bins).value_counts()\n",
    "#sort series\n",
    "sf = spend_df.sort_index(ascending=True)\n",
    "#create new dataframe\n",
    "spend_df = pd.DataFrame({'Grocery Spend (R)':sf.index, 'Count':sf.values})\n",
    "spend_df.set_index('Grocery Spend (R)', inplace=True)\n",
    "spend_df['Cumulative Frequency'] = spend_df['Count'].cumsum()\n",
    "spend_df['Percentage']= np.round(spend_df['Cumulative Frequency']/spend_df['Count'].sum()*100,1)\n",
    "spend_df"
   ]
  },
  {
   "cell_type": "markdown",
   "id": "14ccf060-c1b7-4e3a-b421-4e92f77d3a4f",
   "metadata": {},
   "source": [
    "##### Ogive \n",
    "- A graph of a cumulative frequency distribution.\n",
    "- Provides answers for both less than and more than type of questions from the same graph."
   ]
  },
  {
   "cell_type": "code",
   "execution_count": 13,
   "id": "e5398430-dc07-426e-97cb-26131e0ac524",
   "metadata": {},
   "outputs": [
    {
     "data": {
      "text/plain": [
       "Text(0.5, 1.0, 'Ogive')"
      ]
     },
     "execution_count": 13,
     "metadata": {},
     "output_type": "execute_result"
    },
    {
     "data": {
      "image/png": "[encoded data removed]",
      "text/plain": [
       "<Figure size 800x300 with 1 Axes>"
      ]
     },
     "metadata": {},
     "output_type": "display_data"
    }
   ],
   "source": [
    "plt.plot(np.arange(400,2800,400),spend_df['Percentage'].values, marker = 'D')\n",
    "plt.grid(axis = 'y')\n",
    "plt.xticks(np.arange(0,2500,200))\n",
    "plt.xlabel(\"Amount spend last month (R)\")\n",
    "plt.ylabel(\"% of grocery shoppers\")\n",
    "plt.title(\"Ogive\")"
   ]
  },
  {
   "cell_type": "markdown",
   "id": "efb9878c-3693-4f56-a5f3-8794afa44670",
   "metadata": {},
   "source": [
    "### Summarizing single numerical variables\n",
    "graphs used to display the relationship between two numeric variables are:\n",
    "- scatter plot\n",
    "- trendline graph\n",
    "-  Lorenz curve\n",
    "\n",
    "#### Scatter plot\n",
    "- displays the data points of two numeric variables on an x–y graph\n",
    "- shows the relationship between the two variables in terms of:\n",
    "    - its strength (the closeness of the points), \n",
    "    - its shape (linear or curved), \n",
    "    - its direction (direct or inverse) \n",
    "    - outliers (extreme data values).\n"
   ]
  },
  {
   "cell_type": "code",
   "execution_count": 14,
   "id": "5a40253a-bf35-4b09-ba40-e0a755a2c0c0",
   "metadata": {},
   "outputs": [
    {
     "data": {
      "text/html": [
       "<div>\n",
       "<style scoped>\n",
       "    .dataframe tbody tr th:only-of-type {\n",
       "        vertical-align: middle;\n",
       "    }\n",
       "\n",
       "    .dataframe tbody tr th {\n",
       "        vertical-align: top;\n",
       "    }\n",
       "\n",
       "    .dataframe thead th {\n",
       "        text-align: right;\n",
       "    }\n",
       "</style>\n",
       "<table border=\"1\" class=\"dataframe\">\n",
       "  <thead>\n",
       "    <tr style=\"text-align: right;\">\n",
       "      <th></th>\n",
       "      <th>Visits</th>\n",
       "      <th>Spend</th>\n",
       "    </tr>\n",
       "  </thead>\n",
       "  <tbody>\n",
       "    <tr>\n",
       "      <th>0</th>\n",
       "      <td>3</td>\n",
       "      <td>946</td>\n",
       "    </tr>\n",
       "    <tr>\n",
       "      <th>1</th>\n",
       "      <td>5</td>\n",
       "      <td>1842</td>\n",
       "    </tr>\n",
       "    <tr>\n",
       "      <th>2</th>\n",
       "      <td>3</td>\n",
       "      <td>885</td>\n",
       "    </tr>\n",
       "    <tr>\n",
       "      <th>3</th>\n",
       "      <td>4</td>\n",
       "      <td>1332</td>\n",
       "    </tr>\n",
       "    <tr>\n",
       "      <th>4</th>\n",
       "      <td>3</td>\n",
       "      <td>744</td>\n",
       "    </tr>\n",
       "  </tbody>\n",
       "</table>\n",
       "</div>"
      ],
      "text/plain": [
       "   Visits  Spend\n",
       "0       3    946\n",
       "1       5   1842\n",
       "2       3    885\n",
       "3       4   1332\n",
       "4       3    744"
      ]
     },
     "execution_count": 14,
     "metadata": {},
     "output_type": "execute_result"
    }
   ],
   "source": [
    "grocery_df[['Visits', 'Spend']].head()"
   ]
  },
  {
   "cell_type": "code",
   "execution_count": 15,
   "id": "dd0e3d3f-7d6f-45ea-aec4-d6b1787c8c69",
   "metadata": {},
   "outputs": [
    {
     "data": {
      "text/plain": [
       "Text(0, 0.5, 'Amount spent last month (R)')"
      ]
     },
     "execution_count": 15,
     "metadata": {},
     "output_type": "execute_result"
    },
    {
     "data": {
      "image/png": "[encoded data removed]",
      "text/plain": [
       "<Figure size 800x300 with 1 Axes>"
      ]
     },
     "metadata": {},
     "output_type": "display_data"
    }
   ],
   "source": [
    "visits = grocery_df['Visits'].values\n",
    "spend = grocery_df['Spend'].values\n",
    "plt.grid(axis = 'y')\n",
    "plt.scatter(visits, spend)\n",
    "plt.xlabel(\"Number of visits to store\")\n",
    "plt.ylabel(\"Amount spent last month (R)\")"
   ]
  },
  {
   "cell_type": "markdown",
   "id": "bbb5d1ba-081c-4d6c-a921-ed5347731041",
   "metadata": {},
   "source": [
    "#### Trendline Graph\n",
    "- Plots values of a numeric variable over time(time series data) where,\n",
    "    - x-axis: plots time\n",
    "    - y-axis: numeric variable"
   ]
  },
  {
   "cell_type": "code",
   "execution_count": 16,
   "id": "25021e0b-66b7-4da8-9f5d-903933d2176c",
   "metadata": {},
   "outputs": [
    {
     "data": {
      "text/html": [
       "<div>\n",
       "<style scoped>\n",
       "    .dataframe tbody tr th:only-of-type {\n",
       "        vertical-align: middle;\n",
       "    }\n",
       "\n",
       "    .dataframe tbody tr th {\n",
       "        vertical-align: top;\n",
       "    }\n",
       "\n",
       "    .dataframe thead th {\n",
       "        text-align: right;\n",
       "    }\n",
       "</style>\n",
       "<table border=\"1\" class=\"dataframe\">\n",
       "  <thead>\n",
       "    <tr style=\"text-align: right;\">\n",
       "      <th></th>\n",
       "      <th>Week</th>\n",
       "      <th>Absent</th>\n",
       "    </tr>\n",
       "  </thead>\n",
       "  <tbody>\n",
       "    <tr>\n",
       "      <th>0</th>\n",
       "      <td>1</td>\n",
       "      <td>54</td>\n",
       "    </tr>\n",
       "    <tr>\n",
       "      <th>1</th>\n",
       "      <td>2</td>\n",
       "      <td>58</td>\n",
       "    </tr>\n",
       "    <tr>\n",
       "      <th>2</th>\n",
       "      <td>3</td>\n",
       "      <td>94</td>\n",
       "    </tr>\n",
       "    <tr>\n",
       "      <th>3</th>\n",
       "      <td>4</td>\n",
       "      <td>70</td>\n",
       "    </tr>\n",
       "    <tr>\n",
       "      <th>4</th>\n",
       "      <td>5</td>\n",
       "      <td>61</td>\n",
       "    </tr>\n",
       "  </tbody>\n",
       "</table>\n",
       "</div>"
      ],
      "text/plain": [
       "   Week  Absent\n",
       "0     1      54\n",
       "1     2      58\n",
       "2     3      94\n",
       "3     4      70\n",
       "4     5      61"
      ]
     },
     "execution_count": 16,
     "metadata": {},
     "output_type": "execute_result"
    }
   ],
   "source": [
    "factory_df = pd.read_excel('data/factory_absent.xlsx')\n",
    "factory_df.head()"
   ]
  },
  {
   "cell_type": "code",
   "execution_count": 17,
   "id": "603ed637-f9ab-430b-8f86-7f1273b3db3c",
   "metadata": {},
   "outputs": [
    {
     "data": {
      "image/png": "[encoded data removed]",
      "text/plain": [
       "<Figure size 800x300 with 1 Axes>"
      ]
     },
     "metadata": {},
     "output_type": "display_data"
    }
   ],
   "source": [
    "plt.plot(factory_df['Week'].values,factory_df['Absent'].values, marker = 'D',ms=4)\n",
    "plt.yticks(np.arange(0,140,20))\n",
    "plt.margins(x=0.01)\n",
    "plt.xticks(np.arange(1,33,1))\n",
    "plt.grid(axis='x')\n",
    "plt.ylabel(\"Number of absent workers\")\n",
    "plt.xlabel(\"Weeks\")\n",
    "_ = plt.title(\"Factory Absenteeism\")"
   ]
  },
  {
   "cell_type": "markdown",
   "id": "ed9271f1-4e0d-4027-b528-9086614452c0",
   "metadata": {},
   "source": [
    "#### Lorenz curve\n",
    "- plots ogives of two numeric variables against each other.\n",
    "- show the degree of inequality between the values of the two variables.\n",
    "    - what percentage of one numeric measure  is accounted for by given percentages of the\n",
    "      other numeric measure\n",
    "      \n",
    "Can be used to show the relationship between:\n",
    "- the value of inventories against the volume of inventories held by an organisation\n",
    "- the spread of the total salary bill amongst the number of employees in a company\n",
    "- the concentration of total assets amongst the number of companies in an industry\n",
    "- the spread of the taxation burden amongst the total number of taxpayers.\n",
    "\n",
    "The more unequal the two distributions, the more bent (concave or convex) the curve becomes.\n",
    "\n",
    "A Lorenz curve always starts at coordinate (0%; 0%) and ends at coordinate (100%; 100%).\n",
    "\n",
    "If the distributions are similar or equal, the Lorenz curve will result in a 45° line (line of uniformity) from<br>\n",
    "the origin of both axes"
   ]
  },
  {
   "cell_type": "code",
   "execution_count": 18,
   "id": "4d2ccf21-7913-45a5-a555-cdf8ae8f9213",
   "metadata": {},
   "outputs": [
    {
     "data": {
      "text/html": [
       "<div>\n",
       "<style scoped>\n",
       "    .dataframe tbody tr th:only-of-type {\n",
       "        vertical-align: middle;\n",
       "    }\n",
       "\n",
       "    .dataframe tbody tr th {\n",
       "        vertical-align: top;\n",
       "    }\n",
       "\n",
       "    .dataframe thead th {\n",
       "        text-align: right;\n",
       "    }\n",
       "</style>\n",
       "<table border=\"1\" class=\"dataframe\">\n",
       "  <thead>\n",
       "    <tr style=\"text-align: right;\">\n",
       "      <th></th>\n",
       "      <th>Number of savers</th>\n",
       "      <th>Total savings (R)</th>\n",
       "    </tr>\n",
       "    <tr>\n",
       "      <th>Savings Balances (R)</th>\n",
       "      <th></th>\n",
       "      <th></th>\n",
       "    </tr>\n",
       "  </thead>\n",
       "  <tbody>\n",
       "    <tr>\n",
       "      <th>Below 0</th>\n",
       "      <td>0</td>\n",
       "      <td>0</td>\n",
       "    </tr>\n",
       "    <tr>\n",
       "      <th>[0,500)</th>\n",
       "      <td>12</td>\n",
       "      <td>4089</td>\n",
       "    </tr>\n",
       "    <tr>\n",
       "      <th>[500,1000)</th>\n",
       "      <td>18</td>\n",
       "      <td>14022</td>\n",
       "    </tr>\n",
       "    <tr>\n",
       "      <th>[1000,3000)</th>\n",
       "      <td>25</td>\n",
       "      <td>35750</td>\n",
       "    </tr>\n",
       "    <tr>\n",
       "      <th>[3000,5000)</th>\n",
       "      <td>6</td>\n",
       "      <td>24600</td>\n",
       "    </tr>\n",
       "    <tr>\n",
       "      <th>[5000,10000)</th>\n",
       "      <td>3</td>\n",
       "      <td>22542</td>\n",
       "    </tr>\n",
       "  </tbody>\n",
       "</table>\n",
       "</div>"
      ],
      "text/plain": [
       "                      Number of savers  Total savings (R)\n",
       "Savings Balances (R)                                     \n",
       "Below 0                              0                  0\n",
       "[0,500)                             12               4089\n",
       "[500,1000)                          18              14022\n",
       "[1000,3000)                         25              35750\n",
       "[3000,5000)                          6              24600\n",
       "[5000,10000)                         3              22542"
      ]
     },
     "execution_count": 18,
     "metadata": {},
     "output_type": "execute_result"
    }
   ],
   "source": [
    "data = {\n",
    "    \"Savings Balances (R)\": [\"Below 0\",\"[0,500)\",\"[500,1000)\",\"[1000,3000)\",\"[3000,5000)\",\"[5000,10000)\"],\n",
    "    \"Number of savers\": [0,12,18,25,6,3],\n",
    "    \"Total savings (R)\": [0,4089,14022,35750,24600,22542],\n",
    "}\n",
    "savings_df = pd.DataFrame(data)\n",
    "savings_df.set_index('Savings Balances (R)', inplace=True)\n",
    "savings_df"
   ]
  },
  {
   "cell_type": "code",
   "execution_count": 19,
   "id": "4d9a8c8b-3de5-49ca-8d14-aaffab06c45d",
   "metadata": {},
   "outputs": [
    {
     "data": {
      "text/html": [
       "<div>\n",
       "<style scoped>\n",
       "    .dataframe tbody tr th:only-of-type {\n",
       "        vertical-align: middle;\n",
       "    }\n",
       "\n",
       "    .dataframe tbody tr th {\n",
       "        vertical-align: top;\n",
       "    }\n",
       "\n",
       "    .dataframe thead th {\n",
       "        text-align: right;\n",
       "    }\n",
       "</style>\n",
       "<table border=\"1\" class=\"dataframe\">\n",
       "  <thead>\n",
       "    <tr style=\"text-align: right;\">\n",
       "      <th></th>\n",
       "      <th>Number of savers</th>\n",
       "      <th>Total savings (R)</th>\n",
       "      <th>Percentage of savers</th>\n",
       "      <th>Percentage of total savings</th>\n",
       "    </tr>\n",
       "    <tr>\n",
       "      <th>Savings Balances (R)</th>\n",
       "      <th></th>\n",
       "      <th></th>\n",
       "      <th></th>\n",
       "      <th></th>\n",
       "    </tr>\n",
       "  </thead>\n",
       "  <tbody>\n",
       "    <tr>\n",
       "      <th>Below 0</th>\n",
       "      <td>0</td>\n",
       "      <td>0</td>\n",
       "      <td>0.0</td>\n",
       "      <td>0.0</td>\n",
       "    </tr>\n",
       "    <tr>\n",
       "      <th>[0,500)</th>\n",
       "      <td>12</td>\n",
       "      <td>4089</td>\n",
       "      <td>19.0</td>\n",
       "      <td>4.0</td>\n",
       "    </tr>\n",
       "    <tr>\n",
       "      <th>[500,1000)</th>\n",
       "      <td>18</td>\n",
       "      <td>14022</td>\n",
       "      <td>47.0</td>\n",
       "      <td>18.0</td>\n",
       "    </tr>\n",
       "    <tr>\n",
       "      <th>[1000,3000)</th>\n",
       "      <td>25</td>\n",
       "      <td>35750</td>\n",
       "      <td>86.0</td>\n",
       "      <td>53.0</td>\n",
       "    </tr>\n",
       "    <tr>\n",
       "      <th>[3000,5000)</th>\n",
       "      <td>6</td>\n",
       "      <td>24600</td>\n",
       "      <td>95.0</td>\n",
       "      <td>78.0</td>\n",
       "    </tr>\n",
       "    <tr>\n",
       "      <th>[5000,10000)</th>\n",
       "      <td>3</td>\n",
       "      <td>22542</td>\n",
       "      <td>100.0</td>\n",
       "      <td>100.0</td>\n",
       "    </tr>\n",
       "  </tbody>\n",
       "</table>\n",
       "</div>"
      ],
      "text/plain": [
       "                      Number of savers  Total savings (R)  \\\n",
       "Savings Balances (R)                                        \n",
       "Below 0                              0                  0   \n",
       "[0,500)                             12               4089   \n",
       "[500,1000)                          18              14022   \n",
       "[1000,3000)                         25              35750   \n",
       "[3000,5000)                          6              24600   \n",
       "[5000,10000)                         3              22542   \n",
       "\n",
       "                      Percentage of savers  Percentage of total savings  \n",
       "Savings Balances (R)                                                     \n",
       "Below 0                                0.0                          0.0  \n",
       "[0,500)                               19.0                          4.0  \n",
       "[500,1000)                            47.0                         18.0  \n",
       "[1000,3000)                           86.0                         53.0  \n",
       "[3000,5000)                           95.0                         78.0  \n",
       "[5000,10000)                         100.0                        100.0  "
      ]
     },
     "execution_count": 19,
     "metadata": {},
     "output_type": "execute_result"
    }
   ],
   "source": [
    "# spend_df['Cumulative Frequency'] = spend_df['Count'].cumsum()\n",
    "savings_df['Percentage of savers']= np.round(\n",
    "    savings_df['Number of savers'].cumsum()/savings_df['Number of savers'].sum()*100,0\n",
    ")\n",
    "savings_df['Percentage of total savings']= np.round(\n",
    "    savings_df['Total savings (R)'].cumsum()/savings_df['Total savings (R)'].sum()*100,0\n",
    ")\n",
    "savings_df"
   ]
  },
  {
   "cell_type": "code",
   "execution_count": 20,
   "id": "4cb09a68-096c-4486-aaf0-c6e53cd7a521",
   "metadata": {},
   "outputs": [
    {
     "data": {
      "image/png": "[encoded data removed]",
      "text/plain": [
       "<Figure size 400x400 with 1 Axes>"
      ]
     },
     "metadata": {},
     "output_type": "display_data"
    }
   ],
   "source": [
    "plt.figure(figsize=(4,4))\n",
    "plt.grid()\n",
    "plt.plot(\n",
    "    savings_df['Percentage of savers'].values,\n",
    "    savings_df['Percentage of total savings'].values, marker = 'D',ms=4\n",
    ")\n",
    "plt.plot([0,100],[0,100])\n",
    "plt.ylabel(\"Cumulative % of total savings\")\n",
    "plt.xlabel(\"Cumulative % of savings accounts\")\n",
    "_ = plt.title(\"Savings distributions by accounts\")"
   ]
  },
  {
   "cell_type": "markdown",
   "id": "34196a3e-617c-4cd1-914c-afed2ebe6541",
   "metadata": {},
   "source": [
    "## The Pareto Curve\n",
    "- A combination of a sorted bar chart and a cumulative categorical frequency table\n",
    "- In a sorted bar chart the categories on the x-axis are placed in decreasing order of frequency.\n",
    "- It graphically identifies and separates the ‘critical few’ problems from the ‘trivial many’ problems    \n",
    "\n",
    "### Example\n",
    "A customer service manager has analysed 300 customer complaints received over the past year <br>\n",
    "into eight categories, as shown in the table below"
   ]
  },
  {
   "cell_type": "code",
   "execution_count": 21,
   "id": "14496b9b-6837-42bf-821e-f6c389304154",
   "metadata": {},
   "outputs": [
    {
     "data": {
      "text/html": [
       "<div>\n",
       "<style scoped>\n",
       "    .dataframe tbody tr th:only-of-type {\n",
       "        vertical-align: middle;\n",
       "    }\n",
       "\n",
       "    .dataframe tbody tr th {\n",
       "        vertical-align: top;\n",
       "    }\n",
       "\n",
       "    .dataframe thead th {\n",
       "        text-align: right;\n",
       "    }\n",
       "</style>\n",
       "<table border=\"1\" class=\"dataframe\">\n",
       "  <thead>\n",
       "    <tr style=\"text-align: right;\">\n",
       "      <th></th>\n",
       "      <th>Code</th>\n",
       "      <th>Description</th>\n",
       "      <th>Count</th>\n",
       "      <th>Cumulative Count</th>\n",
       "      <th>Cumulative Percent</th>\n",
       "    </tr>\n",
       "  </thead>\n",
       "  <tbody>\n",
       "    <tr>\n",
       "      <th>6</th>\n",
       "      <td>7</td>\n",
       "      <td>Cost of service is excessive</td>\n",
       "      <td>82</td>\n",
       "      <td>82</td>\n",
       "      <td>27.0</td>\n",
       "    </tr>\n",
       "    <tr>\n",
       "      <th>3</th>\n",
       "      <td>4</td>\n",
       "      <td>Slow response times</td>\n",
       "      <td>66</td>\n",
       "      <td>148</td>\n",
       "      <td>49.0</td>\n",
       "    </tr>\n",
       "    <tr>\n",
       "      <th>1</th>\n",
       "      <td>2</td>\n",
       "      <td>Product options limited</td>\n",
       "      <td>47</td>\n",
       "      <td>195</td>\n",
       "      <td>65.0</td>\n",
       "    </tr>\n",
       "    <tr>\n",
       "      <th>7</th>\n",
       "      <td>8</td>\n",
       "      <td>Payment options limited</td>\n",
       "      <td>30</td>\n",
       "      <td>225</td>\n",
       "      <td>75.0</td>\n",
       "    </tr>\n",
       "    <tr>\n",
       "      <th>0</th>\n",
       "      <td>1</td>\n",
       "      <td>Poor product knowledge</td>\n",
       "      <td>26</td>\n",
       "      <td>251</td>\n",
       "      <td>84.0</td>\n",
       "    </tr>\n",
       "    <tr>\n",
       "      <th>5</th>\n",
       "      <td>6</td>\n",
       "      <td>Non-reply to queries</td>\n",
       "      <td>22</td>\n",
       "      <td>273</td>\n",
       "      <td>91.0</td>\n",
       "    </tr>\n",
       "    <tr>\n",
       "      <th>4</th>\n",
       "      <td>5</td>\n",
       "      <td>Unfriendly staff</td>\n",
       "      <td>15</td>\n",
       "      <td>288</td>\n",
       "      <td>96.0</td>\n",
       "    </tr>\n",
       "    <tr>\n",
       "      <th>2</th>\n",
       "      <td>3</td>\n",
       "      <td>Internet site frequently down</td>\n",
       "      <td>12</td>\n",
       "      <td>300</td>\n",
       "      <td>100.0</td>\n",
       "    </tr>\n",
       "  </tbody>\n",
       "</table>\n",
       "</div>"
      ],
      "text/plain": [
       "   Code                    Description  Count  Cumulative Count  \\\n",
       "6     7  Cost of service is excessive      82                82   \n",
       "3     4            Slow response times     66               148   \n",
       "1     2        Product options limited     47               195   \n",
       "7     8       Payment options limited      30               225   \n",
       "0     1         Poor product knowledge     26               251   \n",
       "5     6           Non-reply to queries     22               273   \n",
       "4     5               Unfriendly staff     15               288   \n",
       "2     3  Internet site frequently down     12               300   \n",
       "\n",
       "   Cumulative Percent  \n",
       "6                27.0  \n",
       "3                49.0  \n",
       "1                65.0  \n",
       "7                75.0  \n",
       "0                84.0  \n",
       "5                91.0  \n",
       "4                96.0  \n",
       "2               100.0  "
      ]
     },
     "execution_count": 21,
     "metadata": {},
     "output_type": "execute_result"
    }
   ],
   "source": [
    "data = {\n",
    "    \"Code\": np.linspace(1,8,8, dtype=int),\n",
    "    \"Description\": [\n",
    "        \"Poor product knowledge\",\n",
    "        \"Product options limited\",\n",
    "        \"Internet site frequently down\",\n",
    "        \"Slow response times\",\n",
    "        \"Unfriendly staff\",\n",
    "        \"Non-reply to queries\",\n",
    "        \"Cost of service is excessive \",\n",
    "        \"Payment options limited \"\n",
    "    ],\n",
    "    \"Count\": [26,47,12,66,15,22,82,30]\n",
    "}\n",
    "complaints_df = pd.DataFrame(data)\n",
    "complaints_df.sort_values(by=\"Count\",ascending=False,inplace=True)\n",
    "complaints_df['Cumulative Count'] = complaints_df['Count'].cumsum()\n",
    "complaints_df['Cumulative Percent']= np.round(complaints_df['Cumulative Count']/complaints_df['Count'].sum()*100,0)\n",
    "\n",
    "complaints_df"
   ]
  },
  {
   "cell_type": "markdown",
   "id": "c3d04ac4-6bf4-459c-b5a0-ff95bd0d8064",
   "metadata": {},
   "source": [
    "##### Questions\n",
    "1. From a Pareto curve, identify the top three customer complaints.\n",
    "2. What percentage of all complaints received do these top three complaints represent?\n",
    "3. What is the least important complaint and what percentage of customers complained about this issue?"
   ]
  },
  {
   "cell_type": "code",
   "execution_count": 22,
   "id": "8079eb14-05da-48df-ac32-0fd7ec21dac6",
   "metadata": {},
   "outputs": [
    {
     "data": {
      "image/png": "[encoded data removed]",
      "text/plain": [
       "<Figure size 500x400 with 2 Axes>"
      ]
     },
     "metadata": {},
     "output_type": "display_data"
    }
   ],
   "source": [
    "fig, ax = plt.subplots(figsize=(5,4))\n",
    "x = np.linspace(1,8,8, dtype=int)\n",
    "bar = ax.bar(x,complaints_df[\"Count\"].values)\n",
    "_ = plt.xticks(x, complaints_df[\"Code\"].values)\n",
    "_ = plt.bar_label(bar,labels=complaints_df[\"Count\"].values,padding=-30 ) \n",
    "plt.ylabel(\"Number of complaints recieved\")\n",
    "plt.xlabel(\"Complaints - ordered by frequency\")\n",
    "_ = plt.title(\"Pareto curve - customer complaints study\")\n",
    "\n",
    "ax2 = ax.twinx()\n",
    "y =  complaints_df['Cumulative Percent'].values.astype(int)\n",
    "ax2.plot(x,y, marker = 'D',ms=4,color=\"C1\")\n",
    "\n",
    "for i in range(len(x)):\n",
    "    plt.annotate(y[i], (x[i]-0.4, y[i] + 0.7),color=\"#3f2d3f\")\n",
    "    "
   ]
  },
  {
   "cell_type": "markdown",
   "id": "8b1c0a85-3d20-4132-b215-104aff7332a1",
   "metadata": {},
   "source": [
    "##### Answers\n",
    "1. Top three complaints are:\n",
    "    1. Cost of service is excessive (7)\n",
    "    2. Slow response times (4)\n",
    "    3. Product options limited (2)\n",
    "2. Percentages are: \n",
    "    1. Cost of service is excessive: 27%\n",
    "    2. Slow response times: 49 -27 = 22%\n",
    "    3. Product options limited 65-49 = 16%\n",
    "    - These top three account for 65% of complaints\n",
    "3. Least least important complaint is Internet site frequently down(3) with 100-96=4%\n",
    "\n"
   ]
  },
  {
   "cell_type": "markdown",
   "id": "73ac20b0-9814-40a0-acd9-6b52a50d8af6",
   "metadata": {},
   "source": [
    "## References\n",
    "\n",
    "Wegner, T. 2013. *Applied Business Statistics: Methods and Excel-based Applications 3<sup>rd</sup>ed.* Claremont, SA:Juta and Company Ltd."
   ]
  }
 ],
 "metadata": {
  "kernelspec": {
   "display_name": "Python 3 (ipykernel)",
   "language": "python",
   "name": "python3"
  },
  "language_info": {
   "codemirror_mode": {
    "name": "ipython",
    "version": 3
   },
   "file_extension": ".py",
   "mimetype": "text/x-python",
   "name": "python",
   "nbconvert_exporter": "python",
   "pygments_lexer": "ipython3",
   "version": "3.7.5"
  }
 },
 "nbformat": 4,
 "nbformat_minor": 5
}
