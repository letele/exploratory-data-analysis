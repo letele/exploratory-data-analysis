{
 "cells": [
  {
   "cell_type": "code",
   "execution_count": 1,
   "id": "01946113-e9a1-473a-b6b4-a68f4f7ada78",
   "metadata": {},
   "outputs": [],
   "source": [
    "import pandas as pd\n",
    "import numpy as np\n",
    "import matplotlib.pyplot as plt\n",
    "%matplotlib inline"
   ]
  },
  {
   "cell_type": "markdown",
   "id": "179264a8-d581-45d6-a1f4-37d710be1855",
   "metadata": {
    "tags": []
   },
   "source": [
    "# Descriptive statistics\n",
    "- Descriptive statistics summarizes data into a single value (statistic). \n",
    "- Data can be summarised using:\n",
    "    1. Measures of location: Areas where data values are concentrated.\n",
    "    2. Measures of variability: How the data values are dispersed. \n",
    "    3. Measures of skewness: How histograms of numerical data are shaped.\n",
    "\n",
    "## Measures of location: Central location\n",
    "- Central location is a statistic that represents the average value of a data set. \n",
    "- There are three types of central-location statistics:\n",
    "    1. **Mode**\n",
    "    2. **Median**\n",
    "    3. **Mean**\n",
    "    \n",
    "### Mode\n",
    "- The **mode** is the most frequenlty occuring value in a data set.\n",
    "- The value can be numerical or categorical\n",
    "- If there is one mode, the data set is unimodal\n",
    "- If there are two modes, the data set is bimodal\n",
    "- If there are more than two modes, the data set is multimodal\n",
    "\n",
    "#### Example\n",
    "The following data are test results from 11 students: \n",
    "- **80, 43, 50, 23, 65, 70, 55, 63, 60, 65, 64**\n"
   ]
  },
  {
   "cell_type": "code",
   "execution_count": 124,
   "id": "44457641-245f-44f6-88d1-a1c7d3ab976a",
   "metadata": {},
   "outputs": [
    {
     "name": "stdout",
     "output_type": "stream",
     "text": [
      "Modes = [65], with frequency = 2\n"
     ]
    }
   ],
   "source": [
    "results = np.array([80, 43, 50, 23, 65, 70, 55, 63, 60, 65, 64])\n",
    "\n",
    "values, counts = np.unique(results, return_counts=True)\n",
    "\n",
    "data =  [(val, count) for val, count in zip(values, counts)]\n",
    "\n",
    "max_val = max([i[1] for i in data ])\n",
    "mode = [val for val in data if val[1] == max_val]\n",
    "mode_values = [i[0] for i in mode]\n",
    "print(f'Modes = {mode_values}, with frequency = {mode[0][1]}')"
   ]
  },
  {
   "cell_type": "markdown",
   "id": "73e4ef79-ac72-4e7d-9ede-b532e170a22b",
   "metadata": {},
   "source": [
    "- 65 appears to be the most frequent value with a freqency of 2.\n",
    "- Because there is one mode, the data set is unimodal \n",
    "\n",
    "### Median\n",
    "- The **median** is middle numerical value of an ordered data set.\n",
    "- If the number of observations is odd the median lies in the ${\\frac{n+1}{2}}^{th}$  position\n",
    "    - n is the total number of observations in the data set\n",
    "- If the number of observations is odd the median lies in the ${\\frac{n}{2}}^{th}$   position\n",
    "    - n is the total number of observations in the data set"
   ]
  },
  {
   "cell_type": "code",
   "execution_count": 3,
   "id": "7679f3b7-7cad-4e0b-97af-eec01d18494f",
   "metadata": {},
   "outputs": [
    {
     "name": "stdout",
     "output_type": "stream",
     "text": [
      "The ordered test results are: [23 43 50 55 60 63 64 65 65 70 80]\n",
      "Median of the results is: 63.0\n"
     ]
    }
   ],
   "source": [
    "print(f'The ordered test results are: {np.sort(results)}') \n",
    "print(f'Median of the results is: {np.median(results)}')"
   ]
  },
  {
   "cell_type": "markdown",
   "id": "753b7312-7aac-496d-a7ab-1ae4d251d439",
   "metadata": {},
   "source": [
    "- 50% of the results are below 63 \n",
    "- 100% - 50% = 50% of the results are above 63\n",
    "\n",
    "### Mean\n",
    "- There are 4 types of mean\n",
    "    1. Arithmetic mean\n",
    "    2. Weighted mean\n",
    "    3. Geometric mean\n",
    "    4. Harmonic mean\n",
    "\n",
    "#### Arithmetic mean\n",
    "- The **arithmetic mean** is sum of all numerical values divided by their total number.\n",
    "- It is defined by the following formula:\n",
    "$$\n",
    " \\bar{x} =  \\frac{\\sum_{i=1}^{n} x_i}{n} \\;\\; , \\;\\; \\mu =  \\frac{\\sum_{i=1}^{N} x_i}{N} \\;\n",
    "$$\n",
    "- $\\mu$ = The population mean parameter\n",
    "- $\\bar{x}$ = The sample mean statistic \n",
    "- $n, N$ = The number of observations\n",
    "- $x_i$ = The $i$<sup>th</sup> data value in the sample\n",
    "- ${\\sum_{i=1}^n = x_1 + x_2 + x_3 + ... + x_n}$ = The sum of the $n$ observations\n"
   ]
  },
  {
   "cell_type": "code",
   "execution_count": 125,
   "id": "a355c4e2-acf6-44b8-8944-ce3d255729d2",
   "metadata": {},
   "outputs": [
    {
     "name": "stdout",
     "output_type": "stream",
     "text": [
      "The arithmetic mean of the test results is: 638/11 = 58.0\n"
     ]
    }
   ],
   "source": [
    "results_mean =  np.sum(results)/np.size(results) # equivalent to np.mean(results)\n",
    "print(f'The arithmetic mean of the test results is: {np.sum(results)}/{np.size(results)} = {results_mean}') "
   ]
  },
  {
   "cell_type": "markdown",
   "id": "39bd069f-1ad2-494f-964a-466939ad3e9b",
   "metadata": {},
   "source": [
    "For the test results, most values values are around 58 \n",
    " \n",
    "#### Weighted mean\n",
    "- The **weighted mean** is used when numerical values are associated with different weights\n",
    "    - Weight represents the importance of a value over other values in the dataset.\n",
    "- The formula for weighted mean is;\n",
    "$$\n",
    "wieghted \\; \\bar{x} =  \\frac{\\sum_{i=1}^n w_ix_i}{\\sum_{i=1}^n w_i} \\;\\;\n",
    "$$\n",
    "\n",
    "$w_ix_i$ = The product of each variable $x_i$ with its weight $w_i$ \n",
    "\n",
    "##### Example\n",
    "A student has the following grades\n",
    "\n",
    "|Assessment| Weight      | Grade |\n",
    "|----------| ----------- | -----------|\n",
    "|Practicals| 5% | 60% |\n",
    "|Asignments| 10% | 45% |\n",
    "|Test 1 | 15% | 40% |\n",
    "|Test 2 | 20% | 65% |\n",
    "|Exam | 50% | 45% |\n",
    "\n",
    "What is the the student's final mark ?\n",
    " \n"
   ]
  },
  {
   "cell_type": "code",
   "execution_count": 5,
   "id": "e48c611a-3a7b-40ad-98e2-ceb87750eaa8",
   "metadata": {},
   "outputs": [
    {
     "name": "stdout",
     "output_type": "stream",
     "text": [
      "Final mark = 49.15%\n"
     ]
    }
   ],
   "source": [
    "grades = [69,44,40,64,45]\n",
    "weights = [5,10,15,20,50]\n",
    "weighted_grades = [ g*w for g,w in zip(grades, weights)]\n",
    "final_mark = np.sum(weighted_grades)/np.sum(weights)\n",
    "print(f'Final mark = {final_mark}%')"
   ]
  },
  {
   "cell_type": "markdown",
   "id": "a0f46dc8-a6d8-45f7-9027-ec42075d81f8",
   "metadata": {},
   "source": [
    "The student has a final mark of 49%. The student failed. \n",
    "\n",
    "#### Geometric mean\n",
    "- The **geometric mean** is used to find the average rate of change in random variables over time\n",
    "- The geometric mean is the $n^{th}$ root of $n$ the product of numbers;\n",
    "$$\n",
    "GM = \\sqrt[n]{\\prod_{i=1}^{n} x_i} \n",
    "$$\n",
    "- $\\prod_{i=1}^{n} x_i = x_1\\cdot x_2\\cdot \\cdot \\cdot x_n$ = The product of $n$ numbers\n",
    "\n",
    "\n",
    "##### Example\n",
    "The electricity tariff has increased by 12%, 8% and 16% per annum over a three-year<br>\n",
    "period. Find the average annual percentage increase in the electricity tariff.\n"
   ]
  },
  {
   "cell_type": "code",
   "execution_count": 6,
   "id": "e9733572-6d1a-4266-82bd-2c38a268f683",
   "metadata": {},
   "outputs": [
    {
     "name": "stdout",
     "output_type": "stream",
     "text": [
      "Percentage change = 11.95% \n"
     ]
    }
   ],
   "source": [
    "change = [12, 8, 16]\n",
    "dec_change = [1+i/100 for i in change]\n",
    "\n",
    "geo_mean = lambda x: pow(np.array(x).prod(), 1/len(x))\n",
    "perc_change = (geo_mean(dec_change)-1)*100\n",
    "\n",
    "print(f'Percentage change = {perc_change:.2f}% ')"
   ]
  },
  {
   "cell_type": "markdown",
   "id": "d19134bd-b874-488b-a951-53fe77b41b4d",
   "metadata": {},
   "source": [
    "Electricity tariffs have increased by an average of 11.95% annually over the past three\n",
    "years.\n",
    "\n",
    "#### Harmonic mean\n",
    "- The harmonic mean is used to calculate the average of ratios\n",
    "- It is found by dividing the number of data points by the sum of reciprocals of the data points.\n",
    "$$\n",
    "HM =  \\frac{n}{\\sum_{i=1}^{n} \\frac{1}{x_i}}\n",
    "$$\n",
    "\n",
    "- $n$ = The number of data points\n",
    "\n",
    "- ${\\sum_{i=1}^{n} \\frac{1}{x_i}} = \\frac{1}{x_1} + \\frac{1}{x_2} + ... + \\frac{1}{x_n}$\n",
    "\n",
    "- The harmonic mean is only defined for positive numbers.\n",
    "- The harmonic mean assigns more weight to smaller values that bigger values\n",
    "\n",
    "#### Example\n",
    "The following data are test results from 11 students: \n",
    "- **80, 43, 50, 23, 65, 70, 55, 63, 60, 65, 64**\n",
    "\n",
    "Find the harmonic mean.\n"
   ]
  },
  {
   "cell_type": "code",
   "execution_count": 7,
   "id": "b2b495b0-e43f-4dcf-b03e-02cbff0a2608",
   "metadata": {},
   "outputs": [
    {
     "name": "stdout",
     "output_type": "stream",
     "text": [
      "Harmonic mean = 52.22\n"
     ]
    }
   ],
   "source": [
    "hm_func = lambda arr: len(arr) / np.sum(1.0/arr) \n",
    "harmonic_mean = hm_func(results)\n",
    "print(f'Harmonic mean = {harmonic_mean:.2f}')"
   ]
  },
  {
   "cell_type": "markdown",
   "id": "80b1d16f-c352-4a43-86fa-4371619878f6",
   "metadata": {},
   "source": [
    "### Outliers\n",
    "- Outliers are extreme values in a data set.\n",
    "    - If the outlier is extremely small, the mean will be undervalued. \n",
    "    - If the outlier is extremely large, the mean will be overvalued.\n",
    "- Outliers can only distort the mean of a data set.\n",
    "    - This is because the mean relies on all values of the data set.\n",
    "    - The median only relies on middle values therefore outliers cannot affect it.\n",
    "    - The mode only relies on most frequent values which are unlikely to be outliers.\n",
    "    \n",
    "- If there are outliers in a data set;\n",
    "    - The mean can be calculated without the outliers if it represents the central-tendancy.\n",
    "    - The median can be used to represent the central-tendancy for numerical/categorical datasets.\n",
    "    - The median/mode can be used to represent the central-tendancy for categorical datasets."
   ]
  },
  {
   "cell_type": "markdown",
   "id": "877f1a2f-4c50-468c-9095-6a9ed8d6a046",
   "metadata": {},
   "source": [
    "## Measures of location: Percentiles\n",
    "\n",
    "### Percentiles \n",
    "A percentile is a statistic that separetes a data set into two locations:\n",
    "<ul>\n",
    "    <li>percentage of data points below the percentile.</li>\n",
    "    <li>percentage of data points above the percentile.</li>\n",
    "</ul>\n",
    "\n",
    "<ul>\n",
    "    <li>Therfore the $k^{th}$  percentile separates the lower $k$% from the upper $(100 - k)$%</li>\n",
    "    <li>The 20<sup>th</sup> percentile separates the lower 20% from the upper 80%</li>\n",
    "</ul>\n",
    "\n",
    "- A percentile is a relative statistic because it ranks a data point relative to other data points. \n",
    "    - If a data point is on the 10th percentile it means 90% of data points are above the data point\n",
    "    - Because percentiles are relative values, they cannot be distorted by outliers\n",
    "    \n",
    "    \n",
    "- To find the  $k^{th}$  percentile:\n",
    "    - Sort the data in ascending order\n",
    "    - $P_k = \\frac{k(n + 1)}{100}$\n",
    "        - $P_k$ = The value at the position $\\frac{k(n + 1)}{100}$ of the sorted data set.\n",
    "        - $n$ = the number of observations.\n",
    "\n",
    "- For the results of the 11 students, find the $10^{th}$ and $50^{th}$ percentile."
   ]
  },
  {
   "cell_type": "code",
   "execution_count": 8,
   "id": "9206a258-3002-42c1-8bf5-dd3d9a99ba21",
   "metadata": {},
   "outputs": [
    {
     "name": "stdout",
     "output_type": "stream",
     "text": [
      "The 10th percentile = 43.0\n",
      "The 50th percentile = 63.0\n"
     ]
    }
   ],
   "source": [
    "print(f'The 10th percentile = { np.percentile(results,10)}')\n",
    "print(f'The 50th percentile = { np.percentile(results,50)}')"
   ]
  },
  {
   "cell_type": "markdown",
   "id": "9a81dd4c-557a-4743-9d30-2accc207524b",
   "metadata": {},
   "source": [
    "- 10% of the results are below 43 and 90% of the results are above 43.\n",
    "- 50% of the results are below 63 and 50% of the results are above 63.\n",
    "    - $50^{th}$ percentile is equivalent to the median of the data set\n",
    "\n",
    "\n",
    "Percentiles can be used also be used to divide data into:\n",
    "1. **Quartiles**\n",
    "2. **Deciles**\n",
    "    \n",
    "### Quartiles\n",
    "Quartiles divide a data set into four equal parts:\n",
    "1. Lower quartile: Separates the lower 25% from the upper 75%\n",
    "2. Middle quartlie: Separates the data sets onto equal parts 50/50\n",
    "3. Upper quartile: Separates the lower 75% from the upper 25%\n",
    "\n",
    "- Find the lower quartile value of the results.\n",
    "- Find the upper quartile value of the results.\n",
    "\n"
   ]
  },
  {
   "cell_type": "code",
   "execution_count": 9,
   "id": "b537c7c2-dbf1-44bf-8675-7b8884e07758",
   "metadata": {},
   "outputs": [
    {
     "name": "stdout",
     "output_type": "stream",
     "text": [
      "The lower quartile = 52.5\n",
      "The upper quartile = 65.0\n"
     ]
    }
   ],
   "source": [
    "quartiles = np.percentile(results, q=np.arange(25, 100, 25),interpolation='midpoint')\n",
    "print(f'The lower quartile = {quartiles[0]}')\n",
    "print(f'The upper quartile = {quartiles[2]}')"
   ]
  },
  {
   "cell_type": "markdown",
   "id": "cb34bc47-2da3-4e40-b149-6acd1ecd6690",
   "metadata": {},
   "source": [
    "### Deciles\n",
    "Deciles divide a data set into 10 equal parts\n",
    "- Each decile has 10 percent of the observations\n",
    "\n",
    "Below are the deciles of the results from 11 students"
   ]
  },
  {
   "cell_type": "code",
   "execution_count": 10,
   "id": "58255c80-84da-465f-9b59-227433dbab4c",
   "metadata": {},
   "outputs": [
    {
     "name": "stdout",
     "output_type": "stream",
     "text": [
      "[23 43 50 55 60 63 64 65 65 70 80]\n",
      "deciles:[43. 50. 55. 60. 63. 64. 65. 65. 70.]\n"
     ]
    }
   ],
   "source": [
    "deciles = np.percentile(results, q=np.arange(10, 100, 10),interpolation='midpoint')\n",
    "print(np.sort(results))\n",
    "print(f'deciles:{deciles}')"
   ]
  },
  {
   "cell_type": "markdown",
   "id": "ba00794f-756e-49c4-8c82-17805782bc32",
   "metadata": {},
   "source": [
    "## Measures of variability\n",
    "Variability refers to the extend to which numerical data values are scattered about their central location\n",
    "- Degree of variablity influences the reliability of the central-location\n",
    "    - widely dispersed data indicate low confidence in the reliability of central-location statistic\n",
    "    - narrowly dispersed data indicate high confidence in the reliability of central-location statistic\n",
    "\n",
    "Statistics used to describe data dispersion are:\n",
    "- Range\n",
    "- Variance\n",
    "- Standard deviation\n",
    "- Coefficient of variation.\n",
    "\n",
    "### Range\n",
    "- Range defines the variability between the maximum and minimum value in a data set\n",
    "- The difference between the highest and lowest data values in a distribution\n",
    "- The range is unreliable because it can be distored by outliers\n",
    "\n",
    "#### Example\n",
    "The daily electricity consumption in kilowatt hours (kWh) by a sample of 20 households is: <br>\n",
    "50, 58, 51, 47, 33, 40, 51, 37, 38, 43, 48, 60, 61, 55, 55, 46, 44, 43, 35\n",
    "\n",
    "find the range"
   ]
  },
  {
   "cell_type": "code",
   "execution_count": 75,
   "id": "5d6b70f1-471f-4e6e-9250-fa789197483f",
   "metadata": {},
   "outputs": [
    {
     "name": "stdout",
     "output_type": "stream",
     "text": [
      "The range is 28kWh\n"
     ]
    }
   ],
   "source": [
    "elec_cons = pd.Series([58,51,50,47,33,40,51,37,38,43,43,48,60,61,55,55,46,44,43,35])\n",
    "elec_range = elec_cons.max()  - elec_cons.min()\n",
    "print(f\"The range is {elec_range}kWh\")"
   ]
  },
  {
   "cell_type": "markdown",
   "id": "ce7147a5-e8dc-4317-9332-1566f3801092",
   "metadata": {},
   "source": [
    "### Variance\n",
    "- A measure of the average squared deviation from the central value.\n",
    "$$\n",
    " s^2 =  \\frac{\\sum_{i=1}^{n} (x_i - \\bar{x})^2}{n - 1} \\;\\; , \\;\\; \\sigma^2 =  \\frac{\\sum_{i=1}^{N} (x_i - \\mu)^2}{N} \\;\n",
    "$$\n",
    "- $\\sigma^2$ = The population variance\n",
    "- $s^2$ = The sample variance \n",
    "- $n, N$ = The number of observations\n",
    "- $(x_i - \\bar{x})^2\\;,\\; (x_i - \\mu)^2$ = The $i$<sup>th</sup> deviation in the sample/population\n",
    "- Dividing by $n - 1$ in the sample makes the population estimator unbiased\n",
    "\n",
    "#### Example\n",
    "Find the variance in the elecricity consumption of the 20 households"
   ]
  },
  {
   "cell_type": "code",
   "execution_count": 12,
   "id": "55c2b874-b5fe-4fbf-a189-acd5fab3c665",
   "metadata": {},
   "outputs": [
    {
     "name": "stdout",
     "output_type": "stream",
     "text": [
      "The variance of household electricity consumption is 67.57 Kwh²\n"
     ]
    }
   ],
   "source": [
    "variance =  elec_cons.var()\n",
    "print(f'The variance of household electricity consumption is {variance:.2f} Kwh\\u00b2')"
   ]
  },
  {
   "cell_type": "markdown",
   "id": "16736910-8fd0-4b36-9602-c96d9992a6cf",
   "metadata": {},
   "source": [
    "### Standard deviation\n",
    "- The square root of the variance\n",
    "    - The variance is expressed in square units, making it hard for interpretation\n",
    "    - The square root removes the square units for easier interpretation\n",
    "- The standard deviation reflects how tightly the observations cluster around the mean.\n",
    "\n",
    "$$\n",
    " s =  \\sqrt{s^2} \\;\\; , \\;\\; \\sigma = \\sqrt{\\sigma^2}\n",
    "$$\n",
    "- $s$ =  The sample standard deviation\n",
    "- $\\sigma$ =  The population standard deviation\n",
    "\n",
    "#### Example\n",
    "Find the standard deviatin in the elecricity consumption of the 20 households"
   ]
  },
  {
   "cell_type": "code",
   "execution_count": 55,
   "id": "5b7f8c16-e01b-45bd-bbbc-77a8f9a7e9dc",
   "metadata": {},
   "outputs": [
    {
     "name": "stdout",
     "output_type": "stream",
     "text": [
      "Standard deviation = 8.22 kWh.\n"
     ]
    }
   ],
   "source": [
    "std_dev = elec_cons.std()\n",
    "print(f'Standard deviation = {std_dev:.2f} kWh.')"
   ]
  },
  {
   "cell_type": "markdown",
   "id": "15e1e7e6-15c5-4718-b0af-5ba5e9446488",
   "metadata": {},
   "source": [
    "The standard deviation of household electricity consumption is 8.22 kWh.\n",
    "\n",
    "### Coefficient of Variation\n",
    "- The coefficient of variation (CV) is the ratio of the standard deviation to the mean\n",
    "- CV measures the dispersion data points around the mean\n",
    "    - The higher the cv, the greater the dispersion\n",
    "    - The lower the cv, the smaller the dispersion\n",
    "- CV is always expressed as a percentage\n",
    "    - This is useful when comparing the variability across different samples\n",
    "\n",
    "$$\n",
    "CV = \\frac{\\sigma}{\\mu}*100\n",
    "$$\n",
    "\n",
    "Below are the calculations of cv for results of the 11 students and electric consumption \n"
   ]
  },
  {
   "cell_type": "code",
   "execution_count": 14,
   "id": "fda70f33-ae71-46ec-93f0-165d27ed36c4",
   "metadata": {},
   "outputs": [
    {
     "name": "stdout",
     "output_type": "stream",
     "text": [
      "cv for results:  26.23%\n",
      "cv for elecricity consumption:  17.53%\n"
     ]
    }
   ],
   "source": [
    "# results\n",
    "squared_deviation = (results -  results.mean())**2\n",
    "variance = squared_deviation.sum()/(results.size -1)\n",
    "cv_results = np.sqrt(variance)/results.mean()*100\n",
    "print(f'cv for results: {cv_results: .2f}%')\n",
    "\n",
    "# elecricity consumption\n",
    "cv_elec = elec_cons.std()/ elec_cons.mean() * 100\n",
    "print(f'cv for elecricity consumption: {cv_elec: .2f}%')"
   ]
  },
  {
   "cell_type": "markdown",
   "id": "c876c2e0-30f6-4aea-824d-0f9a238a95ed",
   "metadata": {},
   "source": [
    "- Both cv's are low, which indicate that the values are closer to the mean\n",
    "- Elecricity consumption has values closer to the mean than results of 11 students"
   ]
  },
  {
   "cell_type": "markdown",
   "id": "e9ac257c-7077-4a81-ab56-0ff7d556103d",
   "metadata": {},
   "source": [
    "## Frequency distributions of unimodal data\n",
    "There are three common shapes of frequency distributions formed by unimodal data\n",
    "1. Symmetrical Distributions\n",
    "2. Positively Skewed Distributions\n",
    "3. Negatively Skewed Distributions\n",
    "\n",
    "### Symmetrical Distributions\n",
    "- The histogram of a symmetrical distribution forms a bell shape in which data are distributed symmetrically around their mean\n",
    "    - 50% of the values are less than the mean\n",
    "    - 50% of the values are greater than the mean\n",
    "    \n",
    "- In a symmetrical distribution, all central-location measures are equal\n",
    "    - Mean = Median = Mode\n",
    "    \n",
    "- Data in a symmetrical distribution appear more frequenlty near the central-location measures"
   ]
  },
  {
   "cell_type": "code",
   "execution_count": 15,
   "id": "651cb655-1056-4b9f-ae54-ad6df04dd418",
   "metadata": {},
   "outputs": [
    {
     "data": {
      "image/png": "[encoded data removed]",
      "text/plain": [
       "<Figure size 500x300 with 1 Axes>"
      ]
     },
     "metadata": {},
     "output_type": "display_data"
    }
   ],
   "source": [
    "mean = 6; std = 1.6;\n",
    "points = 0.001\n",
    "x = np.arange(1,11,points)\n",
    "\n",
    "f = lambda x, mu,sigma: np.exp(-0.5*np.square((x-mu)/sigma))/(sigma*np.sqrt(2*np.pi))\n",
    "\n",
    "plt.figure(figsize=(5,3))\n",
    "plt.title(\"Symmetrical Distribution\")\n",
    "plt.xlabel('x'),plt.ylabel('pdf')\n",
    "\n",
    "ax = plt.subplot(111)\n",
    "ax.set_yticks([])\n",
    "ax.set_xticks([6]),ax.set_xticklabels(['Mode = Median =  Mean'])\n",
    "for i in ['top','right']: \n",
    "    ax.spines[i].set_visible(False)\n",
    "ax.spines['left'].set_position(('data', 0.7))\n",
    "ax.spines['bottom'].set_position(('data', -0.002))\n",
    "\n",
    "ax.plot(x,f(x,mean, std))\n",
    "_ = ax.plot([6,6],[min(f(x,mean, std)), max(f(x,mean, std))],color=\"#5f5f5f\")\n"
   ]
  },
  {
   "cell_type": "markdown",
   "id": "3fbce0f2-6ead-45fe-b2b5-48ca56724178",
   "metadata": {},
   "source": [
    "#### Normal distribution    \n",
    "- A symmetrical distribution is also called a normal distrubution\n",
    "- Mathematically, the normal distribution is defined as a probability density function \n",
    "    - probability density function: Describes the probability of different possible values of a continous variable \n",
    "- The general form of its probability density function is:\n",
    "$$\n",
    "    f(x) = \\frac{e^{-0.5(\\frac{x - \\mu}{\\sigma})^2}}{\\sigma\\sqrt{2\\pi}}\n",
    "$$\n",
    "- $\\frac{x - \\mu}{\\sigma}$ = Standard Score (z-score)\n",
    "    - Converting x to a standard score is called standardizing\n",
    "    - Standardizing converts a normal distribution to a standard normal distribution\n",
    "    - In a standard normal distribution, mean = 0 and standard deviation = 1\n",
    "    \n",
    "- The area under the curve of a probability density function between 2 points gives the probabilty of values<br>\n",
    "  within the range of the two values\n",
    "\n",
    "##### The Empirical rule\n",
    "In a normal distribution,\n",
    "- 68% of the data are within 1 standard deviation of the mean\n",
    "- 95% of the data are within 2 standard deviation of the mean\n",
    "- 99.7% of the data are within 3 standard deviation of the mean"
   ]
  },
  {
   "cell_type": "code",
   "execution_count": 16,
   "id": "9896b2ad-b5ab-4b66-a2b6-b3aea2787035",
   "metadata": {},
   "outputs": [
    {
     "data": {
      "image/png": "[encoded data removed]",
      "text/plain": [
       "<Figure size 900x200 with 3 Axes>"
      ]
     },
     "metadata": {},
     "output_type": "display_data"
    }
   ],
   "source": [
    "mean = 0; std = 1;\n",
    "points = 0.001\n",
    "x = np.arange(-4,4,points)\n",
    "f = lambda x: np.exp(-0.5*np.square((x-mean)/std))/(std*np.sqrt(2*np.pi))\n",
    "\n",
    "fig, axes = plt.subplots(1, 3, figsize=(9, 2),constrained_layout=True)\n",
    "\n",
    "def center_yaxis(ax,arr):\n",
    "    ax.spines['left'].set_position('center')\n",
    "    for i in ['top','right']: ax.spines[i].set_visible(False)\n",
    "    ax.spines['bottom'].set_position('zero')\n",
    "\n",
    "for i,v in enumerate(['68%', '95%', '99.7%']):\n",
    "    axes[i].set_title(v)\n",
    "    axes[i].plot(x,f(x))\n",
    "    axes[i].set_xticks(np.linspace(-3,3,7))\n",
    "    axes[i].set_yticks([])\n",
    "    axes[i].set_xlabel('\\u03C3')\n",
    "    section = np.arange(-1*(i+1),1*(i+1),points)\n",
    "    \n",
    "    axes[i].fill_between(section,f(section),alpha=0.6,color='hotpink')\n",
    "\n",
    "    center_yaxis(axes[i],['left'])\n",
    "\n",
    "_ = fig.suptitle('Empirical rule of the normal distribution')"
   ]
  },
  {
   "cell_type": "markdown",
   "id": "667090e1-40e3-4c3c-8813-68c23dd73bcd",
   "metadata": {},
   "source": [
    "### Positively Skewed Distributions\n",
    "- Outliers cause distributions to be positively skewed\n",
    "- Most values of a positively skewed distribution a concentrated to the left\n",
    "- In a positively skewed distribution,\n",
    "    - Mean  >  Median  >  Mode"
   ]
  },
  {
   "cell_type": "code",
   "execution_count": 45,
   "id": "0335b263-2762-4f8f-981c-7026e05f3854",
   "metadata": {},
   "outputs": [
    {
     "data": {
      "image/png": "[encoded data removed]",
      "text/plain": [
       "<Figure size 500x300 with 1 Axes>"
      ]
     },
     "metadata": {},
     "output_type": "display_data"
    }
   ],
   "source": [
    "mean = 0; std = 0.4;\n",
    "points = 0.001\n",
    "x = np.arange(0.2,3,points)\n",
    "\n",
    "f = lambda x, mu,sigma: np.exp(-0.5*np.square((np.log(x)-mu)/sigma))/(x*sigma*np.sqrt(2*np.pi))\n",
    "\n",
    "maxval = max([i for i in zip(x,f(x,mean,std))],key=lambda x: x[1])\n",
    "\n",
    "plt.figure(figsize=(5,3))\n",
    "plt.title(\"Positively Skewed Distribution\")\n",
    "plt.ylabel(\"pdf\"), plt.xlabel(\"x\")\n",
    "ax = plt.subplot(111)\n",
    "ax.set_yticks([]), ax.set_xticks([])\n",
    "for i in ['top','right']: \n",
    "    ax.spines[i].set_visible(False)\n",
    "\n",
    "ax.plot(x,f(x,mean,std))\n",
    "\n",
    "ax.spines['left'].set_position(('data', 0.1))\n",
    "ax.spines['bottom'].set_position(('data', -0.01))\n",
    "\n",
    "x1, x2, x3 = maxval[0], maxval[0] +0.25, maxval[0] + 0.5\n",
    "ymin, y1,y2, y3 = min(f(x,mean, std)),f(x1,mean, std),f(x2,mean, std), f(x3,mean, std)\n",
    "for i,j in zip([x1,x2,x3],[y1,y2,y3]):\n",
    "    plt.plot([i,i],[ymin, j],color=\"#5f5f5f\")\n",
    "\n",
    "plt.text(x1-0.05, 0.4, \"Mode\",rotation=90,backgroundcolor='#fff')\n",
    "plt.text(x2-0.05, 0.3, \"Median\",rotation=90,backgroundcolor='#fff')\n",
    "_ = plt.text(x3-0.05, 0.2, \"Mean\",rotation=90,backgroundcolor='#fff')"
   ]
  },
  {
   "cell_type": "markdown",
   "id": "4ae74cb6-afe6-4a5d-b484-be4eebc17056",
   "metadata": {},
   "source": [
    "#### Lognormal distribution\n",
    "- A positively skewed distribution has a shape of a lognormal distribution\n",
    "- It is called log-normal because the natural logarithm of the random variable $x$ is normally distributed.\n",
    "    - $ln(x)$ follows a normal distribution\n",
    "\n",
    "- It can be used to model growth rates and income distributions\n",
    "- The general form of its probability density function is:\n",
    "$$\n",
    "    f(x) = \\frac{e^{-0.5(\\frac{ln(x) - \\mu}{\\sigma})^2}}{x\\sigma\\sqrt{2\\pi}}\n",
    "$$\n",
    "- $x > 0$\n",
    "- $\\mu $ = location parameter\n",
    "    - $\\mu $ = mean when data is transformed to $ln(x)$  \n",
    "- $\\sigma$ = scale parameter\n",
    "    - $\\sigma $ = standard deviation when data is transformed to $ln(x)$  "
   ]
  },
  {
   "cell_type": "code",
   "execution_count": 25,
   "id": "916ae00b-0abd-40dc-bb59-a899a5772456",
   "metadata": {},
   "outputs": [
    {
     "data": {
      "image/png": "[encoded data removed]",
      "text/plain": [
       "<Figure size 500x300 with 1 Axes>"
      ]
     },
     "metadata": {},
     "output_type": "display_data"
    }
   ],
   "source": [
    "points = 0.001\n",
    "x = np.arange(0.000001,6,points)\n",
    "\n",
    "f = lambda x, mu,sigma: np.exp(-0.5*np.square((np.log(x)-mu)/sigma))/(x*sigma*np.sqrt(2*np.pi))\n",
    "\n",
    "\n",
    "plt.figure(figsize=(5,3))\n",
    "plt.title(\"Lognormal Distribution\")\n",
    "plt.ylabel(\"pdf\"), plt.xlabel(\"x\")\n",
    "ax = plt.subplot(111)\n",
    "ax.set_yticks([]), ax.set_xticks([])\n",
    "for i in ['top','right']: \n",
    "    ax.spines[i].set_visible(False)\n",
    "ax.spines['left'].set_position(('data', 0))\n",
    "ax.spines['bottom'].set_position(('data', -0.01))\n",
    "\n",
    "mean = 0\n",
    "ax.plot(x,f(x,mean,0.5),label = '\\u03BC = 0 ; \\u03C3 = 0.5')\n",
    "ax.plot(x,f(x,mean,1), label = '\\u03BC = 0 ; \\u03C3 = 1')\n",
    "ax.plot(x,f(x,mean,2), label = '\\u03BC = 0 ; \\u03C3 = 2')\n",
    "_ = plt.legend()"
   ]
  },
  {
   "cell_type": "markdown",
   "id": "e549c4b6-ec0b-40a3-b3f5-fa8f4b9e97ed",
   "metadata": {},
   "source": [
    "### Negatively Skewed Distributions\n",
    "- Outliers cause distributions to be negatively skewed\n",
    "- Most values of a negatively skewed distribution a concentrated to the right\n",
    "- It has a shape of a negative lognormal distribution.\n",
    "- In a negatively skewed distribution,\n",
    "    - Mode  >  Median  >  Mean"
   ]
  },
  {
   "cell_type": "code",
   "execution_count": 44,
   "id": "acb321e0-e533-414a-8be0-b42b055ed828",
   "metadata": {},
   "outputs": [
    {
     "data": {
      "image/png": "[encoded data removed]",
      "text/plain": [
       "<Figure size 500x300 with 1 Axes>"
      ]
     },
     "metadata": {},
     "output_type": "display_data"
    }
   ],
   "source": [
    "mean,std, points = 0, 0.4, 0.001\n",
    "x = np.arange(0.2,3,points)\n",
    "f = lambda x, mu,sigma: np.exp(-0.5*np.square((np.log(x)-mu)/sigma))/(x*sigma*np.sqrt(2*np.pi))\n",
    "maxval = max([i for i in zip(x,f(x,mean,std))],key=lambda x: x[1])\n",
    "\n",
    "plt.figure(figsize=(5,3))\n",
    "plt.title(\"Negatively Skewed Distribution\")\n",
    "plt.ylabel(\"pdf\"), plt.xlabel(\"x\")\n",
    "ax = plt.subplot(111)\n",
    "ax.set_yticks([]), ax.set_xticks([])\n",
    "for i in ['top','right']: \n",
    "    ax.spines[i].set_visible(False)\n",
    "ax.spines['left'].set_position(('data', -3.09))\n",
    "ax.spines['bottom'].set_position(('data', -0.01))\n",
    "    \n",
    "ax.plot(-x,f(x,mean,std))\n",
    "\n",
    "x1, x2, x3 = maxval[0], maxval[0] +0.25, maxval[0] + 0.5\n",
    "ymin, y1,y2, y3 = min(f(x,mean, std)),f(x1,mean, std),f(x2,mean, std), f(x3,mean, std)\n",
    "for i,j in zip([x1,x2,x3],[y1,y2,y3]):\n",
    "    plt.plot([-i,-i],[ymin, j],color=\"#5f5f5f\")\n",
    "\n",
    "plt.text(-x1-0.05, 0.4, \"Mode\",rotation=90,backgroundcolor='#fff')\n",
    "plt.text(-x2-0.05, 0.3, \"Median\",rotation=90,backgroundcolor='#fff')\n",
    "_ = plt.text(-x3-0.05, 0.2, \"Mean\",rotation=90,backgroundcolor='#fff')"
   ]
  },
  {
   "cell_type": "markdown",
   "id": "9810a760-59ae-4504-ab20-27894f0a5003",
   "metadata": {},
   "source": [
    "### Measures of skewness\n",
    "There are three common ways of measuring skewness\n",
    "1. Using the mode\n",
    "2. Using the median\n",
    "3. Using Pearson’s Coefficient of Skewness\n",
    "\n",
    "Skewness is interpreted as follows:\n",
    "- $Skewness = 0$ : The distribution is symmetrical\n",
    "- $Skewness > 0$ : The distribution is positively skewed\n",
    "- $Skewness < 0$ : The distrribution is negatively skewed\n",
    "\n",
    "#### Mode\n",
    "$$\n",
    "Skewness = \\frac{mean\\: – \\:mode}{standard \\: deviation}\n",
    "$$\n",
    "\n",
    "\n",
    "#### Example\n",
    "The daily electricity consumption in kilowatt hours (kWh) by a sample of 20 households is: <br>\n",
    "50, 58, 51, 47, 33, 40, 51, 37, 38, 43, 48, 60, 61, 55, 55, 46, 44, 43, 35\n"
   ]
  },
  {
   "cell_type": "code",
   "execution_count": 112,
   "id": "7d637a2b-a02a-4ed5-8e18-edd9b1332d09",
   "metadata": {},
   "outputs": [
    {
     "data": {
      "text/plain": [
       "0    0.474452\n",
       "dtype: float64"
      ]
     },
     "execution_count": 112,
     "metadata": {},
     "output_type": "execute_result"
    }
   ],
   "source": [
    "elec_cons = pd.Series([58,51,50,47,33,40,51,37,38,43,43,48,60,61,55,55,46,44,43,35])\n",
    "mode_skewness = (elec_cons.mean() - elec_cons.mode())/ elec_cons.std()\n",
    "mode_skewness"
   ]
  },
  {
   "cell_type": "markdown",
   "id": "e7f2f707-2cb1-4ce2-bdfa-d87ae514c495",
   "metadata": {},
   "source": [
    "#### Median\n",
    "$$\n",
    "Skewness = \\frac{3(mean \\: – \\: median)}{standard \\: deviation} \n",
    "$$"
   ]
  },
  {
   "cell_type": "code",
   "execution_count": 94,
   "id": "ac8ebae3-5434-47dd-86e7-2898112282e8",
   "metadata": {},
   "outputs": [
    {
     "data": {
      "text/plain": [
       "0.14598537871715012"
      ]
     },
     "execution_count": 94,
     "metadata": {},
     "output_type": "execute_result"
    }
   ],
   "source": [
    "median_skewness = 3*(elec_cons.mean() - elec_cons.median())/ elec_cons.std()\n",
    "median_skewness"
   ]
  },
  {
   "cell_type": "markdown",
   "id": "96f611d1-ca91-4413-9891-ec5423b0aa1e",
   "metadata": {},
   "source": [
    "#### Pearson’s coefficient of skewness\n",
    "$$\n",
    "Sk_p =  \\frac{\\sum_{i=1}^{n} (x_i - \\bar{x})^3}{(n - 1)(n-2)s^3}\n",
    "$$\n",
    "- $Sk_p$ = Pearson’s Coefficient of Skewness\n",
    "- $s$ = standard deviation"
   ]
  },
  {
   "cell_type": "code",
   "execution_count": 120,
   "id": "a891f864-968c-402d-8052-5af9f30d7b3e",
   "metadata": {},
   "outputs": [
    {
     "name": "stdout",
     "output_type": "stream",
     "text": [
      "Skp: 0.11\n",
      "Mean: 46.9\n",
      "Median: 46.5\n",
      "Mode: 43\n",
      "Mean > Median > Mode: True\n",
      "\n"
     ]
    }
   ],
   "source": [
    "cubed_deviation = (elec_cons -  elec_cons.mean())**3\n",
    "den = (elec_cons.size -1)*(elec_cons.size -2)*(elec_cons.std()**3)\n",
    "Skp = elec_cons.size*cubed_deviation.sum()/den\n",
    "mean, median, mode = elec_cons.mean(), elec_cons.median(), elec_cons.mode().values[0]\n",
    "print(f'''Skp: {Skp:.2f}\n",
    "Mean: {mean}\n",
    "Median: {median}\n",
    "Mode: {mode}\n",
    "Mean > Median > Mode: {mean> median and median> mode}\n",
    "''')"
   ]
  },
  {
   "cell_type": "markdown",
   "id": "e9f0bb1f-a574-49a3-8ffc-87b25dbb3ae2",
   "metadata": {},
   "source": [
    "- All measures are positive, suggesting that the distribution is positivley skewed\n",
    "- Mean > Median > Mode also suggests that the distribution is positivley skewed\n",
    "\n",
    "Below is the distribution of elecricity consumption which shows a slight positive skewness\n"
   ]
  },
  {
   "cell_type": "code",
   "execution_count": 113,
   "id": "1b73dba5-4df2-4a4b-8f66-bc83fd4800a1",
   "metadata": {},
   "outputs": [
    {
     "data": {
      "image/png": "[encoded data removed]",
      "text/plain": [
       "<Figure size 500x300 with 1 Axes>"
      ]
     },
     "metadata": {},
     "output_type": "display_data"
    }
   ],
   "source": [
    "_ = elec_cons.hist(figsize=(5,3))"
   ]
  },
  {
   "cell_type": "markdown",
   "id": "b3025056-561b-4cf9-8c2b-ecc5700265ab",
   "metadata": {},
   "source": [
    "### Box Plot\n",
    "- A numeric random variable can also be summarised in a five-number summary table\n",
    "\n",
    "||||\n",
    "|--| --| --|\n",
    "|1| Minimum data value | X<sub>min</sub> |\n",
    "|2| Lower Quartile | Q<sub>1</sub> |\n",
    "|3| Median |Q<sub>2</sub> |\n",
    "|4| Upper Quartile |Q<sub>3</sub> |\n",
    "|5| Maximum data value | X<sub>max</sub> |\n",
    "\n",
    "- The graphical representation of the five-number summary table is called a **box plot**\n",
    "\n",
    "- The **box plot** graphically shows:\n",
    "    - The range of the data between the minimum value and maximum value\n",
    "    - The spread of the data between the quartiles\n",
    "    - The skewness of the data's frequency distribution\n"
   ]
  },
  {
   "cell_type": "code",
   "execution_count": 122,
   "id": "8d2b1b5e-c581-47ce-a593-48a84fe15ab9",
   "metadata": {},
   "outputs": [
    {
     "data": {
      "image/png": "[encoded data removed]",
      "text/plain": [
       "<Figure size 500x300 with 1 Axes>"
      ]
     },
     "metadata": {},
     "output_type": "display_data"
    }
   ],
   "source": [
    "plt.figure(figsize=(5,3))\n",
    "plt.title(\"Box plot of household electricity consumption (kWh)\")\n",
    "\n",
    "plt.boxplot(elec_cons.values,vert =False)\n",
    "plt.yticks([])\n",
    "_ = plt.scatter(elec_cons.values, np.ones(elec_cons.size))"
   ]
  },
  {
   "cell_type": "markdown",
   "id": "56996fa9-dadb-4feb-b1b8-3d95c4eb4c3d",
   "metadata": {},
   "source": [
    "- The box of the boxplot shows the interquartile range (IQR)\n",
    "    - IQR = Upper Quartile - Lower Quartile\n",
    "- The line in the middle of the line is the position of the median\n",
    "- The endlines are called **whiskers**\n",
    "    - **Whiskers** indicate variability outside the upper and lower quartiles.\n",
    "    -  The left whisker = Q<sub>1</sub> - 1.5\\*IQR\n",
    "    -  The right whisker = Q<sub>2</sub> + 1.5\\*IQR\n",
    "    - Data values that fall beyond whiskers are **outliers**"
   ]
  },
  {
   "cell_type": "markdown",
   "id": "d8cfcc56-e9a2-462c-ac36-c0289049e0e7",
   "metadata": {},
   "source": [
    "## References\n",
    "\n",
    "Keller, G. 2017. *Statistics for Management and Economics 11<sup>th</sup>ed.* Boston, USA:Cengage Learning. \n",
    "\n",
    "Pavlovic M. 2022.*Log-normal Distribution - A simple explanation.* https://towardsdatascience.com/log-normal-distribution-a-simple-explanation-7605864fb67c (2022, February 16)\n",
    "\n",
    "Wegner, T. 2013. *Applied Business Statistics: Methods and Excel-based Applications 3<sup>rd</sup>ed.* Claremont, SA:Juta and Company Ltd.\n",
    "\n",
    "Wheelan, C. 2013. *Naked Statistics: Stripping The Dread From The Data.* New York, USA:W. W. Norton & Company Ltd.\n",
    "\n",
    "Wikipedia. 2022 *Box Plot* https://en.wikipedia.org/wiki/Box_plot (26, October 2022)\n",
    "\n",
    "Wikipedia. 2022 *Geometric Mean* https://en.wikipedia.org/wiki/Geometric_mean (2022, November 19)\n"
   ]
  }
 ],
 "metadata": {
  "kernelspec": {
   "display_name": "Python 3 (ipykernel)",
   "language": "python",
   "name": "python3"
  },
  "language_info": {
   "codemirror_mode": {
    "name": "ipython",
    "version": 3
   },
   "file_extension": ".py",
   "mimetype": "text/x-python",
   "name": "python",
   "nbconvert_exporter": "python",
   "pygments_lexer": "ipython3",
   "version": "3.7.5"
  }
 },
 "nbformat": 4,
 "nbformat_minor": 5
}
